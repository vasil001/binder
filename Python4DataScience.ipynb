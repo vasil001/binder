{
 "cells": [
  {
   "cell_type": "code",
   "execution_count": 1,
   "metadata": {},
   "outputs": [],
   "source": [
    "import pandas as pd\n",
    "import numpy as np\n",
    "import matplotlib.pyplot as plt\n",
    "import seaborn as sns\n",
    "import glob\n",
    "import os\n",
    "import solution"
   ]
  },
  {
   "cell_type": "markdown",
   "metadata": {},
   "source": [
    "# Python for Data Science\n",
    "\n",
    "![correlation](img/xkcd_correlation.png \"correlation\")\n",
    "\n",
    "**Outline:**\n",
    "* Data understanding\n",
    "    * Analytical\n",
    "    * Visual\n",
    "* Data cleaning / preprocessing\n",
    "* Modeling approaches\n",
    "    * Growing\n",
    "    * Pruning\n",
    "    * Automation (Machine Learning)\n",
    "* Evaluating Model performance\n",
    "* Common pitfalls\n",
    "\n",
    "\n",
    "**The solutions are below the exercises, so don't skip ahead!**"
   ]
  },
  {
   "cell_type": "markdown",
   "metadata": {},
   "source": [
    "## Data Understanding\n",
    "\n",
    "### Understanding the background\n",
    "\n",
    "A solid understanding of the data is the foundation for every analysis. One should investigate the process of how the data came to be and what the correct interpretation of the recorded variables is.\n",
    "\n",
    "Questions to ask:\n",
    "- How, when, where, and why was this data recorded?\n",
    "- What process in the real world does this data reflect?\n",
    "- Who collected the data and with what goal?\n",
    "    * Was the data gathered by accident?\n",
    "    * Was it gathered to investigate or proof something?\n",
    "- Is there some (business) relationship between the variables that we assume a priori? \n",
    "    * We know that we would have ~0 sales if our cappuccino cost 1000 EUR/cup\n",
    "    * We know that a tax rate of 100% means tax revenue of 0.\n",
    "    * We know that a projectile's accuracy decreases with distance traveled. \n",
    "    * WARNING: We **knew** for a long time, that interest rates have to positive...\n",
    "    * WARNING: Machines come **without** all these a priori assumptions!\n",
    "- Is the data complete?\n",
    "    * Which observations might be missing?\n",
    "    * Are observations missing at random or by some pattern?\n",
    "    * Which variables could have been measured but weren't - and why weren't they measured?\n",
    "    * How could the data be augmented from other sources?\n",
    "- Is the data current?\n",
    "    * Current pertaining to what real world phenomenon?\n",
    "    * Are parts of the data current?\n",
    "    * What changed since the recording?\n",
    "    * Did the measurement / recording process change during the recording? \n",
    "    * How long will the data stay current?\n",
    "- Was the data aggregated / what resolution does it have?\n",
    "    * Tick prices VS averages for each second \n",
    "    * Rough VS smoothed sensor data\n",
    "    * Family income VS individual income VS GDP"
   ]
  },
  {
   "cell_type": "markdown",
   "metadata": {},
   "source": [
    "### Excursion: Python & R\n",
    "\n",
    "R is a statistical programming language with witch one can do a lot of the same things as with python, pandas and scikit-learn. The languages have different strengths and weaknesses but both are excellent and both can get the job done. In this case, we want to import a built-in data set from R into python. For this we briefly explore rpy2, the API between pandas and R.  \n",
    "  \n",
    "If you have R installed and set the environment variables (Path), you can install rpy2 via pip and uncomment the below code to see, how easy it is to connect R with python."
   ]
  },
  {
   "cell_type": "code",
   "execution_count": null,
   "metadata": {},
   "outputs": [],
   "source": [
    "#from rpy2.robjects import r, pandas2ri # Think of r as a hidden r session controlled from python\n",
    "#pandas2ri.activate() # This activated automatic type conversion between r and pandas for many types (including data frames)\n",
    "#r('x = 1+1') # We can run r code in our r session by using it like a function!\n",
    "#print(r['x'])# We can also use the r session like a dictionary and extract data."
   ]
  },
  {
   "cell_type": "code",
   "execution_count": null,
   "metadata": {},
   "outputs": [],
   "source": [
    "#mtcars = r['mtcars'] # For this Tutorial, we just want the 'mtcars' data set from R!"
   ]
  },
  {
   "cell_type": "markdown",
   "metadata": {},
   "source": [
    "In case you do not have R installed or you have problems with the above code, simply load the data from the csv:"
   ]
  },
  {
   "cell_type": "code",
   "execution_count": 2,
   "metadata": {},
   "outputs": [],
   "source": [
    "mtcars = pd.read_csv('data/mtcars.csv')"
   ]
  },
  {
   "cell_type": "markdown",
   "metadata": {},
   "source": [
    "#### Motor Trend Car Road Tests \n",
    "(From the help text in r: `?mtcars`)\n",
    "\n",
    "##### Description\n",
    "\n",
    "The data was extracted from the 1974 Motor Trend US magazine, and comprises fuel consumption and 10 aspects of automobile design and performance for 32 automobiles (1973–74 models).\n",
    "\n",
    "##### Format\n",
    "\n",
    "A data frame with 32 observations on 11 variables.\n",
    "\n",
    "|col#|name|description|\n",
    "|----|----|-----------|\n",
    "| [, 1]|\t mpg|\t Miles/(US) gallon|\n",
    "| [, 2]|\t cyl|\t Number of cylinders|\n",
    "| [, 3]|\t disp|\t Displacement (cu.in.)|\n",
    "|[, 4]|\t hp\t| Gross horsepower|\n",
    "|[, 5]|\t drat|\t Rear axle ratio|\n",
    "|[, 6]|\t wt|\t Weight (1000 lbs)|\n",
    "|[, 7]|\t qsec|\t 1/4 mile time|\n",
    "|[, 8]|\t vs\t| V/S|\n",
    "|[, 9]|\t am\t| Transmission (0 = automatic, 1 = manual)|\n",
    "|[,10]|\t gear|\t Number of forward gears|\n",
    "|[,11]|\t carb|\t Number of carburetors|\n",
    "\n",
    "##### Source\n",
    "\n",
    "Henderson and Velleman (1981), _Building multiple regression models interactively_ Biometrics, 37, 391–411."
   ]
  },
  {
   "cell_type": "code",
   "execution_count": 9,
   "metadata": {},
   "outputs": [
    {
     "data": {
      "text/html": [
       "<div>\n",
       "<style scoped>\n",
       "    .dataframe tbody tr th:only-of-type {\n",
       "        vertical-align: middle;\n",
       "    }\n",
       "\n",
       "    .dataframe tbody tr th {\n",
       "        vertical-align: top;\n",
       "    }\n",
       "\n",
       "    .dataframe thead th {\n",
       "        text-align: right;\n",
       "    }\n",
       "</style>\n",
       "<table border=\"1\" class=\"dataframe\">\n",
       "  <thead>\n",
       "    <tr style=\"text-align: right;\">\n",
       "      <th></th>\n",
       "      <th>mpg</th>\n",
       "      <th>cyl</th>\n",
       "      <th>disp</th>\n",
       "      <th>hp</th>\n",
       "      <th>drat</th>\n",
       "      <th>wt</th>\n",
       "      <th>qsec</th>\n",
       "      <th>vs</th>\n",
       "      <th>am</th>\n",
       "      <th>gear</th>\n",
       "      <th>carb</th>\n",
       "    </tr>\n",
       "  </thead>\n",
       "  <tbody>\n",
       "    <tr>\n",
       "      <td>0</td>\n",
       "      <td>True</td>\n",
       "      <td>True</td>\n",
       "      <td>True</td>\n",
       "      <td>True</td>\n",
       "      <td>True</td>\n",
       "      <td>True</td>\n",
       "      <td>True</td>\n",
       "      <td>True</td>\n",
       "      <td>True</td>\n",
       "      <td>True</td>\n",
       "      <td>True</td>\n",
       "    </tr>\n",
       "    <tr>\n",
       "      <td>1</td>\n",
       "      <td>True</td>\n",
       "      <td>True</td>\n",
       "      <td>True</td>\n",
       "      <td>True</td>\n",
       "      <td>True</td>\n",
       "      <td>True</td>\n",
       "      <td>True</td>\n",
       "      <td>True</td>\n",
       "      <td>True</td>\n",
       "      <td>True</td>\n",
       "      <td>True</td>\n",
       "    </tr>\n",
       "    <tr>\n",
       "      <td>2</td>\n",
       "      <td>True</td>\n",
       "      <td>True</td>\n",
       "      <td>True</td>\n",
       "      <td>True</td>\n",
       "      <td>True</td>\n",
       "      <td>True</td>\n",
       "      <td>True</td>\n",
       "      <td>True</td>\n",
       "      <td>True</td>\n",
       "      <td>True</td>\n",
       "      <td>True</td>\n",
       "    </tr>\n",
       "    <tr>\n",
       "      <td>3</td>\n",
       "      <td>True</td>\n",
       "      <td>True</td>\n",
       "      <td>True</td>\n",
       "      <td>True</td>\n",
       "      <td>True</td>\n",
       "      <td>True</td>\n",
       "      <td>True</td>\n",
       "      <td>True</td>\n",
       "      <td>True</td>\n",
       "      <td>True</td>\n",
       "      <td>True</td>\n",
       "    </tr>\n",
       "    <tr>\n",
       "      <td>4</td>\n",
       "      <td>True</td>\n",
       "      <td>True</td>\n",
       "      <td>True</td>\n",
       "      <td>True</td>\n",
       "      <td>True</td>\n",
       "      <td>True</td>\n",
       "      <td>True</td>\n",
       "      <td>True</td>\n",
       "      <td>True</td>\n",
       "      <td>True</td>\n",
       "      <td>True</td>\n",
       "    </tr>\n",
       "    <tr>\n",
       "      <td>5</td>\n",
       "      <td>True</td>\n",
       "      <td>True</td>\n",
       "      <td>True</td>\n",
       "      <td>True</td>\n",
       "      <td>True</td>\n",
       "      <td>True</td>\n",
       "      <td>True</td>\n",
       "      <td>True</td>\n",
       "      <td>True</td>\n",
       "      <td>True</td>\n",
       "      <td>True</td>\n",
       "    </tr>\n",
       "    <tr>\n",
       "      <td>6</td>\n",
       "      <td>True</td>\n",
       "      <td>True</td>\n",
       "      <td>True</td>\n",
       "      <td>True</td>\n",
       "      <td>True</td>\n",
       "      <td>True</td>\n",
       "      <td>True</td>\n",
       "      <td>True</td>\n",
       "      <td>True</td>\n",
       "      <td>True</td>\n",
       "      <td>True</td>\n",
       "    </tr>\n",
       "    <tr>\n",
       "      <td>7</td>\n",
       "      <td>True</td>\n",
       "      <td>True</td>\n",
       "      <td>True</td>\n",
       "      <td>True</td>\n",
       "      <td>True</td>\n",
       "      <td>True</td>\n",
       "      <td>True</td>\n",
       "      <td>True</td>\n",
       "      <td>True</td>\n",
       "      <td>True</td>\n",
       "      <td>True</td>\n",
       "    </tr>\n",
       "    <tr>\n",
       "      <td>8</td>\n",
       "      <td>True</td>\n",
       "      <td>True</td>\n",
       "      <td>True</td>\n",
       "      <td>True</td>\n",
       "      <td>True</td>\n",
       "      <td>True</td>\n",
       "      <td>True</td>\n",
       "      <td>True</td>\n",
       "      <td>True</td>\n",
       "      <td>True</td>\n",
       "      <td>True</td>\n",
       "    </tr>\n",
       "    <tr>\n",
       "      <td>9</td>\n",
       "      <td>True</td>\n",
       "      <td>True</td>\n",
       "      <td>True</td>\n",
       "      <td>True</td>\n",
       "      <td>True</td>\n",
       "      <td>True</td>\n",
       "      <td>True</td>\n",
       "      <td>True</td>\n",
       "      <td>True</td>\n",
       "      <td>True</td>\n",
       "      <td>True</td>\n",
       "    </tr>\n",
       "    <tr>\n",
       "      <td>10</td>\n",
       "      <td>True</td>\n",
       "      <td>True</td>\n",
       "      <td>True</td>\n",
       "      <td>True</td>\n",
       "      <td>True</td>\n",
       "      <td>True</td>\n",
       "      <td>True</td>\n",
       "      <td>True</td>\n",
       "      <td>True</td>\n",
       "      <td>True</td>\n",
       "      <td>True</td>\n",
       "    </tr>\n",
       "    <tr>\n",
       "      <td>11</td>\n",
       "      <td>True</td>\n",
       "      <td>True</td>\n",
       "      <td>True</td>\n",
       "      <td>True</td>\n",
       "      <td>True</td>\n",
       "      <td>True</td>\n",
       "      <td>True</td>\n",
       "      <td>True</td>\n",
       "      <td>True</td>\n",
       "      <td>True</td>\n",
       "      <td>True</td>\n",
       "    </tr>\n",
       "    <tr>\n",
       "      <td>12</td>\n",
       "      <td>True</td>\n",
       "      <td>True</td>\n",
       "      <td>True</td>\n",
       "      <td>True</td>\n",
       "      <td>True</td>\n",
       "      <td>True</td>\n",
       "      <td>True</td>\n",
       "      <td>True</td>\n",
       "      <td>True</td>\n",
       "      <td>True</td>\n",
       "      <td>True</td>\n",
       "    </tr>\n",
       "    <tr>\n",
       "      <td>13</td>\n",
       "      <td>True</td>\n",
       "      <td>True</td>\n",
       "      <td>True</td>\n",
       "      <td>True</td>\n",
       "      <td>True</td>\n",
       "      <td>True</td>\n",
       "      <td>True</td>\n",
       "      <td>True</td>\n",
       "      <td>True</td>\n",
       "      <td>True</td>\n",
       "      <td>True</td>\n",
       "    </tr>\n",
       "    <tr>\n",
       "      <td>14</td>\n",
       "      <td>True</td>\n",
       "      <td>True</td>\n",
       "      <td>True</td>\n",
       "      <td>True</td>\n",
       "      <td>True</td>\n",
       "      <td>True</td>\n",
       "      <td>True</td>\n",
       "      <td>True</td>\n",
       "      <td>True</td>\n",
       "      <td>True</td>\n",
       "      <td>True</td>\n",
       "    </tr>\n",
       "    <tr>\n",
       "      <td>15</td>\n",
       "      <td>True</td>\n",
       "      <td>True</td>\n",
       "      <td>True</td>\n",
       "      <td>True</td>\n",
       "      <td>True</td>\n",
       "      <td>True</td>\n",
       "      <td>True</td>\n",
       "      <td>True</td>\n",
       "      <td>True</td>\n",
       "      <td>True</td>\n",
       "      <td>True</td>\n",
       "    </tr>\n",
       "    <tr>\n",
       "      <td>16</td>\n",
       "      <td>True</td>\n",
       "      <td>True</td>\n",
       "      <td>True</td>\n",
       "      <td>True</td>\n",
       "      <td>True</td>\n",
       "      <td>True</td>\n",
       "      <td>True</td>\n",
       "      <td>True</td>\n",
       "      <td>True</td>\n",
       "      <td>True</td>\n",
       "      <td>True</td>\n",
       "    </tr>\n",
       "    <tr>\n",
       "      <td>17</td>\n",
       "      <td>True</td>\n",
       "      <td>True</td>\n",
       "      <td>True</td>\n",
       "      <td>True</td>\n",
       "      <td>True</td>\n",
       "      <td>True</td>\n",
       "      <td>True</td>\n",
       "      <td>True</td>\n",
       "      <td>True</td>\n",
       "      <td>True</td>\n",
       "      <td>True</td>\n",
       "    </tr>\n",
       "    <tr>\n",
       "      <td>18</td>\n",
       "      <td>True</td>\n",
       "      <td>True</td>\n",
       "      <td>True</td>\n",
       "      <td>True</td>\n",
       "      <td>True</td>\n",
       "      <td>True</td>\n",
       "      <td>True</td>\n",
       "      <td>True</td>\n",
       "      <td>True</td>\n",
       "      <td>True</td>\n",
       "      <td>True</td>\n",
       "    </tr>\n",
       "    <tr>\n",
       "      <td>19</td>\n",
       "      <td>True</td>\n",
       "      <td>True</td>\n",
       "      <td>True</td>\n",
       "      <td>True</td>\n",
       "      <td>True</td>\n",
       "      <td>True</td>\n",
       "      <td>True</td>\n",
       "      <td>True</td>\n",
       "      <td>True</td>\n",
       "      <td>True</td>\n",
       "      <td>True</td>\n",
       "    </tr>\n",
       "    <tr>\n",
       "      <td>20</td>\n",
       "      <td>True</td>\n",
       "      <td>True</td>\n",
       "      <td>True</td>\n",
       "      <td>True</td>\n",
       "      <td>True</td>\n",
       "      <td>True</td>\n",
       "      <td>True</td>\n",
       "      <td>True</td>\n",
       "      <td>True</td>\n",
       "      <td>True</td>\n",
       "      <td>True</td>\n",
       "    </tr>\n",
       "    <tr>\n",
       "      <td>21</td>\n",
       "      <td>True</td>\n",
       "      <td>True</td>\n",
       "      <td>True</td>\n",
       "      <td>True</td>\n",
       "      <td>True</td>\n",
       "      <td>True</td>\n",
       "      <td>True</td>\n",
       "      <td>True</td>\n",
       "      <td>True</td>\n",
       "      <td>True</td>\n",
       "      <td>True</td>\n",
       "    </tr>\n",
       "    <tr>\n",
       "      <td>22</td>\n",
       "      <td>True</td>\n",
       "      <td>True</td>\n",
       "      <td>True</td>\n",
       "      <td>True</td>\n",
       "      <td>True</td>\n",
       "      <td>True</td>\n",
       "      <td>True</td>\n",
       "      <td>True</td>\n",
       "      <td>True</td>\n",
       "      <td>True</td>\n",
       "      <td>True</td>\n",
       "    </tr>\n",
       "    <tr>\n",
       "      <td>23</td>\n",
       "      <td>True</td>\n",
       "      <td>True</td>\n",
       "      <td>True</td>\n",
       "      <td>True</td>\n",
       "      <td>True</td>\n",
       "      <td>True</td>\n",
       "      <td>True</td>\n",
       "      <td>True</td>\n",
       "      <td>True</td>\n",
       "      <td>True</td>\n",
       "      <td>True</td>\n",
       "    </tr>\n",
       "    <tr>\n",
       "      <td>24</td>\n",
       "      <td>True</td>\n",
       "      <td>True</td>\n",
       "      <td>True</td>\n",
       "      <td>True</td>\n",
       "      <td>True</td>\n",
       "      <td>True</td>\n",
       "      <td>True</td>\n",
       "      <td>True</td>\n",
       "      <td>True</td>\n",
       "      <td>True</td>\n",
       "      <td>True</td>\n",
       "    </tr>\n",
       "    <tr>\n",
       "      <td>25</td>\n",
       "      <td>True</td>\n",
       "      <td>True</td>\n",
       "      <td>True</td>\n",
       "      <td>True</td>\n",
       "      <td>True</td>\n",
       "      <td>True</td>\n",
       "      <td>True</td>\n",
       "      <td>True</td>\n",
       "      <td>True</td>\n",
       "      <td>True</td>\n",
       "      <td>True</td>\n",
       "    </tr>\n",
       "    <tr>\n",
       "      <td>26</td>\n",
       "      <td>True</td>\n",
       "      <td>True</td>\n",
       "      <td>True</td>\n",
       "      <td>True</td>\n",
       "      <td>True</td>\n",
       "      <td>True</td>\n",
       "      <td>True</td>\n",
       "      <td>True</td>\n",
       "      <td>True</td>\n",
       "      <td>True</td>\n",
       "      <td>True</td>\n",
       "    </tr>\n",
       "    <tr>\n",
       "      <td>27</td>\n",
       "      <td>True</td>\n",
       "      <td>True</td>\n",
       "      <td>True</td>\n",
       "      <td>True</td>\n",
       "      <td>True</td>\n",
       "      <td>True</td>\n",
       "      <td>True</td>\n",
       "      <td>True</td>\n",
       "      <td>True</td>\n",
       "      <td>True</td>\n",
       "      <td>True</td>\n",
       "    </tr>\n",
       "    <tr>\n",
       "      <td>28</td>\n",
       "      <td>True</td>\n",
       "      <td>True</td>\n",
       "      <td>True</td>\n",
       "      <td>True</td>\n",
       "      <td>True</td>\n",
       "      <td>True</td>\n",
       "      <td>True</td>\n",
       "      <td>True</td>\n",
       "      <td>True</td>\n",
       "      <td>True</td>\n",
       "      <td>True</td>\n",
       "    </tr>\n",
       "    <tr>\n",
       "      <td>29</td>\n",
       "      <td>True</td>\n",
       "      <td>True</td>\n",
       "      <td>True</td>\n",
       "      <td>True</td>\n",
       "      <td>True</td>\n",
       "      <td>True</td>\n",
       "      <td>True</td>\n",
       "      <td>True</td>\n",
       "      <td>True</td>\n",
       "      <td>True</td>\n",
       "      <td>True</td>\n",
       "    </tr>\n",
       "    <tr>\n",
       "      <td>30</td>\n",
       "      <td>True</td>\n",
       "      <td>True</td>\n",
       "      <td>True</td>\n",
       "      <td>True</td>\n",
       "      <td>True</td>\n",
       "      <td>True</td>\n",
       "      <td>True</td>\n",
       "      <td>True</td>\n",
       "      <td>True</td>\n",
       "      <td>True</td>\n",
       "      <td>True</td>\n",
       "    </tr>\n",
       "    <tr>\n",
       "      <td>31</td>\n",
       "      <td>True</td>\n",
       "      <td>True</td>\n",
       "      <td>True</td>\n",
       "      <td>True</td>\n",
       "      <td>True</td>\n",
       "      <td>True</td>\n",
       "      <td>True</td>\n",
       "      <td>True</td>\n",
       "      <td>True</td>\n",
       "      <td>True</td>\n",
       "      <td>True</td>\n",
       "    </tr>\n",
       "  </tbody>\n",
       "</table>\n",
       "</div>"
      ],
      "text/plain": [
       "     mpg   cyl  disp    hp  drat    wt  qsec    vs    am  gear  carb\n",
       "0   True  True  True  True  True  True  True  True  True  True  True\n",
       "1   True  True  True  True  True  True  True  True  True  True  True\n",
       "2   True  True  True  True  True  True  True  True  True  True  True\n",
       "3   True  True  True  True  True  True  True  True  True  True  True\n",
       "4   True  True  True  True  True  True  True  True  True  True  True\n",
       "5   True  True  True  True  True  True  True  True  True  True  True\n",
       "6   True  True  True  True  True  True  True  True  True  True  True\n",
       "7   True  True  True  True  True  True  True  True  True  True  True\n",
       "8   True  True  True  True  True  True  True  True  True  True  True\n",
       "9   True  True  True  True  True  True  True  True  True  True  True\n",
       "10  True  True  True  True  True  True  True  True  True  True  True\n",
       "11  True  True  True  True  True  True  True  True  True  True  True\n",
       "12  True  True  True  True  True  True  True  True  True  True  True\n",
       "13  True  True  True  True  True  True  True  True  True  True  True\n",
       "14  True  True  True  True  True  True  True  True  True  True  True\n",
       "15  True  True  True  True  True  True  True  True  True  True  True\n",
       "16  True  True  True  True  True  True  True  True  True  True  True\n",
       "17  True  True  True  True  True  True  True  True  True  True  True\n",
       "18  True  True  True  True  True  True  True  True  True  True  True\n",
       "19  True  True  True  True  True  True  True  True  True  True  True\n",
       "20  True  True  True  True  True  True  True  True  True  True  True\n",
       "21  True  True  True  True  True  True  True  True  True  True  True\n",
       "22  True  True  True  True  True  True  True  True  True  True  True\n",
       "23  True  True  True  True  True  True  True  True  True  True  True\n",
       "24  True  True  True  True  True  True  True  True  True  True  True\n",
       "25  True  True  True  True  True  True  True  True  True  True  True\n",
       "26  True  True  True  True  True  True  True  True  True  True  True\n",
       "27  True  True  True  True  True  True  True  True  True  True  True\n",
       "28  True  True  True  True  True  True  True  True  True  True  True\n",
       "29  True  True  True  True  True  True  True  True  True  True  True\n",
       "30  True  True  True  True  True  True  True  True  True  True  True\n",
       "31  True  True  True  True  True  True  True  True  True  True  True"
      ]
     },
     "execution_count": 9,
     "metadata": {},
     "output_type": "execute_result"
    }
   ],
   "source": []
  },
  {
   "cell_type": "code",
   "execution_count": 10,
   "metadata": {},
   "outputs": [
    {
     "data": {
      "text/html": [
       "<div>\n",
       "<style scoped>\n",
       "    .dataframe tbody tr th:only-of-type {\n",
       "        vertical-align: middle;\n",
       "    }\n",
       "\n",
       "    .dataframe tbody tr th {\n",
       "        vertical-align: top;\n",
       "    }\n",
       "\n",
       "    .dataframe thead th {\n",
       "        text-align: right;\n",
       "    }\n",
       "</style>\n",
       "<table border=\"1\" class=\"dataframe\">\n",
       "  <thead>\n",
       "    <tr style=\"text-align: right;\">\n",
       "      <th></th>\n",
       "      <th>mpg</th>\n",
       "      <th>disp</th>\n",
       "      <th>drat</th>\n",
       "      <th>wt</th>\n",
       "      <th>qsec</th>\n",
       "    </tr>\n",
       "  </thead>\n",
       "  <tbody>\n",
       "    <tr>\n",
       "      <td>0</td>\n",
       "      <td>21.0</td>\n",
       "      <td>160.0</td>\n",
       "      <td>3.90</td>\n",
       "      <td>2.620</td>\n",
       "      <td>16.46</td>\n",
       "    </tr>\n",
       "    <tr>\n",
       "      <td>1</td>\n",
       "      <td>21.0</td>\n",
       "      <td>160.0</td>\n",
       "      <td>3.90</td>\n",
       "      <td>2.875</td>\n",
       "      <td>17.02</td>\n",
       "    </tr>\n",
       "    <tr>\n",
       "      <td>2</td>\n",
       "      <td>22.8</td>\n",
       "      <td>108.0</td>\n",
       "      <td>3.85</td>\n",
       "      <td>2.320</td>\n",
       "      <td>18.61</td>\n",
       "    </tr>\n",
       "    <tr>\n",
       "      <td>3</td>\n",
       "      <td>21.4</td>\n",
       "      <td>258.0</td>\n",
       "      <td>3.08</td>\n",
       "      <td>3.215</td>\n",
       "      <td>19.44</td>\n",
       "    </tr>\n",
       "    <tr>\n",
       "      <td>4</td>\n",
       "      <td>18.7</td>\n",
       "      <td>360.0</td>\n",
       "      <td>3.15</td>\n",
       "      <td>3.440</td>\n",
       "      <td>17.02</td>\n",
       "    </tr>\n",
       "    <tr>\n",
       "      <td>5</td>\n",
       "      <td>18.1</td>\n",
       "      <td>225.0</td>\n",
       "      <td>2.76</td>\n",
       "      <td>3.460</td>\n",
       "      <td>20.22</td>\n",
       "    </tr>\n",
       "    <tr>\n",
       "      <td>6</td>\n",
       "      <td>14.3</td>\n",
       "      <td>360.0</td>\n",
       "      <td>3.21</td>\n",
       "      <td>3.570</td>\n",
       "      <td>15.84</td>\n",
       "    </tr>\n",
       "    <tr>\n",
       "      <td>7</td>\n",
       "      <td>24.4</td>\n",
       "      <td>146.7</td>\n",
       "      <td>3.69</td>\n",
       "      <td>3.190</td>\n",
       "      <td>20.00</td>\n",
       "    </tr>\n",
       "    <tr>\n",
       "      <td>8</td>\n",
       "      <td>22.8</td>\n",
       "      <td>140.8</td>\n",
       "      <td>3.92</td>\n",
       "      <td>3.150</td>\n",
       "      <td>22.90</td>\n",
       "    </tr>\n",
       "    <tr>\n",
       "      <td>9</td>\n",
       "      <td>19.2</td>\n",
       "      <td>167.6</td>\n",
       "      <td>3.92</td>\n",
       "      <td>3.440</td>\n",
       "      <td>18.30</td>\n",
       "    </tr>\n",
       "    <tr>\n",
       "      <td>10</td>\n",
       "      <td>17.8</td>\n",
       "      <td>167.6</td>\n",
       "      <td>3.92</td>\n",
       "      <td>3.440</td>\n",
       "      <td>18.90</td>\n",
       "    </tr>\n",
       "    <tr>\n",
       "      <td>11</td>\n",
       "      <td>16.4</td>\n",
       "      <td>275.8</td>\n",
       "      <td>3.07</td>\n",
       "      <td>4.070</td>\n",
       "      <td>17.40</td>\n",
       "    </tr>\n",
       "    <tr>\n",
       "      <td>12</td>\n",
       "      <td>17.3</td>\n",
       "      <td>275.8</td>\n",
       "      <td>3.07</td>\n",
       "      <td>3.730</td>\n",
       "      <td>17.60</td>\n",
       "    </tr>\n",
       "    <tr>\n",
       "      <td>13</td>\n",
       "      <td>15.2</td>\n",
       "      <td>275.8</td>\n",
       "      <td>3.07</td>\n",
       "      <td>3.780</td>\n",
       "      <td>18.00</td>\n",
       "    </tr>\n",
       "    <tr>\n",
       "      <td>14</td>\n",
       "      <td>10.4</td>\n",
       "      <td>472.0</td>\n",
       "      <td>2.93</td>\n",
       "      <td>5.250</td>\n",
       "      <td>17.98</td>\n",
       "    </tr>\n",
       "    <tr>\n",
       "      <td>15</td>\n",
       "      <td>10.4</td>\n",
       "      <td>460.0</td>\n",
       "      <td>3.00</td>\n",
       "      <td>5.424</td>\n",
       "      <td>17.82</td>\n",
       "    </tr>\n",
       "    <tr>\n",
       "      <td>16</td>\n",
       "      <td>14.7</td>\n",
       "      <td>440.0</td>\n",
       "      <td>3.23</td>\n",
       "      <td>5.345</td>\n",
       "      <td>17.42</td>\n",
       "    </tr>\n",
       "    <tr>\n",
       "      <td>17</td>\n",
       "      <td>32.4</td>\n",
       "      <td>78.7</td>\n",
       "      <td>4.08</td>\n",
       "      <td>2.200</td>\n",
       "      <td>19.47</td>\n",
       "    </tr>\n",
       "    <tr>\n",
       "      <td>18</td>\n",
       "      <td>30.4</td>\n",
       "      <td>75.7</td>\n",
       "      <td>4.93</td>\n",
       "      <td>1.615</td>\n",
       "      <td>18.52</td>\n",
       "    </tr>\n",
       "    <tr>\n",
       "      <td>19</td>\n",
       "      <td>33.9</td>\n",
       "      <td>71.1</td>\n",
       "      <td>4.22</td>\n",
       "      <td>1.835</td>\n",
       "      <td>19.90</td>\n",
       "    </tr>\n",
       "    <tr>\n",
       "      <td>20</td>\n",
       "      <td>21.5</td>\n",
       "      <td>120.1</td>\n",
       "      <td>3.70</td>\n",
       "      <td>2.465</td>\n",
       "      <td>20.01</td>\n",
       "    </tr>\n",
       "    <tr>\n",
       "      <td>21</td>\n",
       "      <td>15.5</td>\n",
       "      <td>318.0</td>\n",
       "      <td>2.76</td>\n",
       "      <td>3.520</td>\n",
       "      <td>16.87</td>\n",
       "    </tr>\n",
       "    <tr>\n",
       "      <td>22</td>\n",
       "      <td>15.2</td>\n",
       "      <td>304.0</td>\n",
       "      <td>3.15</td>\n",
       "      <td>3.435</td>\n",
       "      <td>17.30</td>\n",
       "    </tr>\n",
       "    <tr>\n",
       "      <td>23</td>\n",
       "      <td>13.3</td>\n",
       "      <td>350.0</td>\n",
       "      <td>3.73</td>\n",
       "      <td>3.840</td>\n",
       "      <td>15.41</td>\n",
       "    </tr>\n",
       "    <tr>\n",
       "      <td>24</td>\n",
       "      <td>19.2</td>\n",
       "      <td>400.0</td>\n",
       "      <td>3.08</td>\n",
       "      <td>3.845</td>\n",
       "      <td>17.05</td>\n",
       "    </tr>\n",
       "    <tr>\n",
       "      <td>25</td>\n",
       "      <td>27.3</td>\n",
       "      <td>79.0</td>\n",
       "      <td>4.08</td>\n",
       "      <td>1.935</td>\n",
       "      <td>18.90</td>\n",
       "    </tr>\n",
       "    <tr>\n",
       "      <td>26</td>\n",
       "      <td>26.0</td>\n",
       "      <td>120.3</td>\n",
       "      <td>4.43</td>\n",
       "      <td>2.140</td>\n",
       "      <td>16.70</td>\n",
       "    </tr>\n",
       "    <tr>\n",
       "      <td>27</td>\n",
       "      <td>30.4</td>\n",
       "      <td>95.1</td>\n",
       "      <td>3.77</td>\n",
       "      <td>1.513</td>\n",
       "      <td>16.90</td>\n",
       "    </tr>\n",
       "    <tr>\n",
       "      <td>28</td>\n",
       "      <td>15.8</td>\n",
       "      <td>351.0</td>\n",
       "      <td>4.22</td>\n",
       "      <td>3.170</td>\n",
       "      <td>14.50</td>\n",
       "    </tr>\n",
       "    <tr>\n",
       "      <td>29</td>\n",
       "      <td>19.7</td>\n",
       "      <td>145.0</td>\n",
       "      <td>3.62</td>\n",
       "      <td>2.770</td>\n",
       "      <td>15.50</td>\n",
       "    </tr>\n",
       "    <tr>\n",
       "      <td>30</td>\n",
       "      <td>15.0</td>\n",
       "      <td>301.0</td>\n",
       "      <td>3.54</td>\n",
       "      <td>3.570</td>\n",
       "      <td>14.60</td>\n",
       "    </tr>\n",
       "    <tr>\n",
       "      <td>31</td>\n",
       "      <td>21.4</td>\n",
       "      <td>121.0</td>\n",
       "      <td>4.11</td>\n",
       "      <td>2.780</td>\n",
       "      <td>18.60</td>\n",
       "    </tr>\n",
       "  </tbody>\n",
       "</table>\n",
       "</div>"
      ],
      "text/plain": [
       "     mpg   disp  drat     wt   qsec\n",
       "0   21.0  160.0  3.90  2.620  16.46\n",
       "1   21.0  160.0  3.90  2.875  17.02\n",
       "2   22.8  108.0  3.85  2.320  18.61\n",
       "3   21.4  258.0  3.08  3.215  19.44\n",
       "4   18.7  360.0  3.15  3.440  17.02\n",
       "5   18.1  225.0  2.76  3.460  20.22\n",
       "6   14.3  360.0  3.21  3.570  15.84\n",
       "7   24.4  146.7  3.69  3.190  20.00\n",
       "8   22.8  140.8  3.92  3.150  22.90\n",
       "9   19.2  167.6  3.92  3.440  18.30\n",
       "10  17.8  167.6  3.92  3.440  18.90\n",
       "11  16.4  275.8  3.07  4.070  17.40\n",
       "12  17.3  275.8  3.07  3.730  17.60\n",
       "13  15.2  275.8  3.07  3.780  18.00\n",
       "14  10.4  472.0  2.93  5.250  17.98\n",
       "15  10.4  460.0  3.00  5.424  17.82\n",
       "16  14.7  440.0  3.23  5.345  17.42\n",
       "17  32.4   78.7  4.08  2.200  19.47\n",
       "18  30.4   75.7  4.93  1.615  18.52\n",
       "19  33.9   71.1  4.22  1.835  19.90\n",
       "20  21.5  120.1  3.70  2.465  20.01\n",
       "21  15.5  318.0  2.76  3.520  16.87\n",
       "22  15.2  304.0  3.15  3.435  17.30\n",
       "23  13.3  350.0  3.73  3.840  15.41\n",
       "24  19.2  400.0  3.08  3.845  17.05\n",
       "25  27.3   79.0  4.08  1.935  18.90\n",
       "26  26.0  120.3  4.43  2.140  16.70\n",
       "27  30.4   95.1  3.77  1.513  16.90\n",
       "28  15.8  351.0  4.22  3.170  14.50\n",
       "29  19.7  145.0  3.62  2.770  15.50\n",
       "30  15.0  301.0  3.54  3.570  14.60\n",
       "31  21.4  121.0  4.11  2.780  18.60"
      ]
     },
     "execution_count": 10,
     "metadata": {},
     "output_type": "execute_result"
    }
   ],
   "source": [
    "mtcars.loc[:,mtcars.dtypes == 'float64']"
   ]
  },
  {
   "cell_type": "markdown",
   "metadata": {},
   "source": [
    "### Analytical Inspection\n",
    "Lets see which columns we have! This is most helpful for large data frames, where we can not just look at the whole spreadsheet at once!"
   ]
  },
  {
   "cell_type": "code",
   "execution_count": 11,
   "metadata": {},
   "outputs": [
    {
     "data": {
      "text/plain": [
       "Index(['mpg', 'cyl', 'disp', 'hp', 'drat', 'wt', 'qsec', 'vs', 'am', 'gear',\n",
       "       'carb'],\n",
       "      dtype='object')"
      ]
     },
     "execution_count": 11,
     "metadata": {},
     "output_type": "execute_result"
    }
   ],
   "source": [
    "mtcars.columns"
   ]
  },
  {
   "cell_type": "markdown",
   "metadata": {},
   "source": [
    "Glimpse at the data! For large data sets, look at a random sample of rows!"
   ]
  },
  {
   "cell_type": "code",
   "execution_count": 12,
   "metadata": {},
   "outputs": [
    {
     "data": {
      "text/html": [
       "<div>\n",
       "<style scoped>\n",
       "    .dataframe tbody tr th:only-of-type {\n",
       "        vertical-align: middle;\n",
       "    }\n",
       "\n",
       "    .dataframe tbody tr th {\n",
       "        vertical-align: top;\n",
       "    }\n",
       "\n",
       "    .dataframe thead th {\n",
       "        text-align: right;\n",
       "    }\n",
       "</style>\n",
       "<table border=\"1\" class=\"dataframe\">\n",
       "  <thead>\n",
       "    <tr style=\"text-align: right;\">\n",
       "      <th></th>\n",
       "      <th>mpg</th>\n",
       "      <th>cyl</th>\n",
       "      <th>disp</th>\n",
       "      <th>hp</th>\n",
       "      <th>drat</th>\n",
       "      <th>wt</th>\n",
       "      <th>qsec</th>\n",
       "      <th>vs</th>\n",
       "      <th>am</th>\n",
       "      <th>gear</th>\n",
       "      <th>carb</th>\n",
       "    </tr>\n",
       "  </thead>\n",
       "  <tbody>\n",
       "    <tr>\n",
       "      <td>0</td>\n",
       "      <td>21.0</td>\n",
       "      <td>6</td>\n",
       "      <td>160.0</td>\n",
       "      <td>110</td>\n",
       "      <td>3.90</td>\n",
       "      <td>2.620</td>\n",
       "      <td>16.46</td>\n",
       "      <td>0</td>\n",
       "      <td>1</td>\n",
       "      <td>4</td>\n",
       "      <td>4</td>\n",
       "    </tr>\n",
       "    <tr>\n",
       "      <td>1</td>\n",
       "      <td>21.0</td>\n",
       "      <td>6</td>\n",
       "      <td>160.0</td>\n",
       "      <td>110</td>\n",
       "      <td>3.90</td>\n",
       "      <td>2.875</td>\n",
       "      <td>17.02</td>\n",
       "      <td>0</td>\n",
       "      <td>1</td>\n",
       "      <td>4</td>\n",
       "      <td>4</td>\n",
       "    </tr>\n",
       "    <tr>\n",
       "      <td>2</td>\n",
       "      <td>22.8</td>\n",
       "      <td>4</td>\n",
       "      <td>108.0</td>\n",
       "      <td>93</td>\n",
       "      <td>3.85</td>\n",
       "      <td>2.320</td>\n",
       "      <td>18.61</td>\n",
       "      <td>1</td>\n",
       "      <td>1</td>\n",
       "      <td>4</td>\n",
       "      <td>1</td>\n",
       "    </tr>\n",
       "    <tr>\n",
       "      <td>3</td>\n",
       "      <td>21.4</td>\n",
       "      <td>6</td>\n",
       "      <td>258.0</td>\n",
       "      <td>110</td>\n",
       "      <td>3.08</td>\n",
       "      <td>3.215</td>\n",
       "      <td>19.44</td>\n",
       "      <td>1</td>\n",
       "      <td>0</td>\n",
       "      <td>3</td>\n",
       "      <td>1</td>\n",
       "    </tr>\n",
       "    <tr>\n",
       "      <td>4</td>\n",
       "      <td>18.7</td>\n",
       "      <td>8</td>\n",
       "      <td>360.0</td>\n",
       "      <td>175</td>\n",
       "      <td>3.15</td>\n",
       "      <td>3.440</td>\n",
       "      <td>17.02</td>\n",
       "      <td>0</td>\n",
       "      <td>0</td>\n",
       "      <td>3</td>\n",
       "      <td>2</td>\n",
       "    </tr>\n",
       "  </tbody>\n",
       "</table>\n",
       "</div>"
      ],
      "text/plain": [
       "    mpg  cyl   disp   hp  drat     wt   qsec  vs  am  gear  carb\n",
       "0  21.0    6  160.0  110  3.90  2.620  16.46   0   1     4     4\n",
       "1  21.0    6  160.0  110  3.90  2.875  17.02   0   1     4     4\n",
       "2  22.8    4  108.0   93  3.85  2.320  18.61   1   1     4     1\n",
       "3  21.4    6  258.0  110  3.08  3.215  19.44   1   0     3     1\n",
       "4  18.7    8  360.0  175  3.15  3.440  17.02   0   0     3     2"
      ]
     },
     "execution_count": 12,
     "metadata": {},
     "output_type": "execute_result"
    }
   ],
   "source": [
    "mtcars.head()"
   ]
  },
  {
   "cell_type": "markdown",
   "metadata": {},
   "source": [
    "Now we will take a look at the data types and memory useage. Questions to ask:\n",
    "* Are the types right? \n",
    "    * In this case: Should we really only use floats?\n",
    "    * Typical example: Region codes should not be float!\n",
    "* Is the data too big?\n",
    "    * If it is: Optimize memory useage or \n",
    "    * Use spark\n",
    "        \n",
    "For more information, we provide separate tutorials \"optimizing memory use in Python\" and \"introduction to Spark\"."
   ]
  },
  {
   "cell_type": "code",
   "execution_count": 13,
   "metadata": {},
   "outputs": [
    {
     "name": "stdout",
     "output_type": "stream",
     "text": [
      "<class 'pandas.core.frame.DataFrame'>\n",
      "RangeIndex: 32 entries, 0 to 31\n",
      "Data columns (total 11 columns):\n",
      "mpg     32 non-null float64\n",
      "cyl     32 non-null int64\n",
      "disp    32 non-null float64\n",
      "hp      32 non-null int64\n",
      "drat    32 non-null float64\n",
      "wt      32 non-null float64\n",
      "qsec    32 non-null float64\n",
      "vs      32 non-null int64\n",
      "am      32 non-null int64\n",
      "gear    32 non-null int64\n",
      "carb    32 non-null int64\n",
      "dtypes: float64(5), int64(6)\n",
      "memory usage: 2.9 KB\n"
     ]
    }
   ],
   "source": [
    "mtcars.info()"
   ]
  },
  {
   "cell_type": "markdown",
   "metadata": {},
   "source": [
    "Let's get a first impression of the size and distribution of our variables: "
   ]
  },
  {
   "cell_type": "code",
   "execution_count": 14,
   "metadata": {},
   "outputs": [
    {
     "data": {
      "text/html": [
       "<div>\n",
       "<style scoped>\n",
       "    .dataframe tbody tr th:only-of-type {\n",
       "        vertical-align: middle;\n",
       "    }\n",
       "\n",
       "    .dataframe tbody tr th {\n",
       "        vertical-align: top;\n",
       "    }\n",
       "\n",
       "    .dataframe thead th {\n",
       "        text-align: right;\n",
       "    }\n",
       "</style>\n",
       "<table border=\"1\" class=\"dataframe\">\n",
       "  <thead>\n",
       "    <tr style=\"text-align: right;\">\n",
       "      <th></th>\n",
       "      <th>mpg</th>\n",
       "      <th>cyl</th>\n",
       "      <th>disp</th>\n",
       "      <th>hp</th>\n",
       "      <th>drat</th>\n",
       "      <th>wt</th>\n",
       "      <th>qsec</th>\n",
       "      <th>vs</th>\n",
       "      <th>am</th>\n",
       "      <th>gear</th>\n",
       "      <th>carb</th>\n",
       "    </tr>\n",
       "  </thead>\n",
       "  <tbody>\n",
       "    <tr>\n",
       "      <td>count</td>\n",
       "      <td>32.000000</td>\n",
       "      <td>32.000000</td>\n",
       "      <td>32.000000</td>\n",
       "      <td>32.000000</td>\n",
       "      <td>32.000000</td>\n",
       "      <td>32.000000</td>\n",
       "      <td>32.000000</td>\n",
       "      <td>32.000000</td>\n",
       "      <td>32.000000</td>\n",
       "      <td>32.000000</td>\n",
       "      <td>32.0000</td>\n",
       "    </tr>\n",
       "    <tr>\n",
       "      <td>mean</td>\n",
       "      <td>20.090625</td>\n",
       "      <td>6.187500</td>\n",
       "      <td>230.721875</td>\n",
       "      <td>146.687500</td>\n",
       "      <td>3.596563</td>\n",
       "      <td>3.217250</td>\n",
       "      <td>17.848750</td>\n",
       "      <td>0.437500</td>\n",
       "      <td>0.406250</td>\n",
       "      <td>3.687500</td>\n",
       "      <td>2.8125</td>\n",
       "    </tr>\n",
       "    <tr>\n",
       "      <td>std</td>\n",
       "      <td>6.026948</td>\n",
       "      <td>1.785922</td>\n",
       "      <td>123.938694</td>\n",
       "      <td>68.562868</td>\n",
       "      <td>0.534679</td>\n",
       "      <td>0.978457</td>\n",
       "      <td>1.786943</td>\n",
       "      <td>0.504016</td>\n",
       "      <td>0.498991</td>\n",
       "      <td>0.737804</td>\n",
       "      <td>1.6152</td>\n",
       "    </tr>\n",
       "    <tr>\n",
       "      <td>min</td>\n",
       "      <td>10.400000</td>\n",
       "      <td>4.000000</td>\n",
       "      <td>71.100000</td>\n",
       "      <td>52.000000</td>\n",
       "      <td>2.760000</td>\n",
       "      <td>1.513000</td>\n",
       "      <td>14.500000</td>\n",
       "      <td>0.000000</td>\n",
       "      <td>0.000000</td>\n",
       "      <td>3.000000</td>\n",
       "      <td>1.0000</td>\n",
       "    </tr>\n",
       "    <tr>\n",
       "      <td>25%</td>\n",
       "      <td>15.425000</td>\n",
       "      <td>4.000000</td>\n",
       "      <td>120.825000</td>\n",
       "      <td>96.500000</td>\n",
       "      <td>3.080000</td>\n",
       "      <td>2.581250</td>\n",
       "      <td>16.892500</td>\n",
       "      <td>0.000000</td>\n",
       "      <td>0.000000</td>\n",
       "      <td>3.000000</td>\n",
       "      <td>2.0000</td>\n",
       "    </tr>\n",
       "    <tr>\n",
       "      <td>50%</td>\n",
       "      <td>19.200000</td>\n",
       "      <td>6.000000</td>\n",
       "      <td>196.300000</td>\n",
       "      <td>123.000000</td>\n",
       "      <td>3.695000</td>\n",
       "      <td>3.325000</td>\n",
       "      <td>17.710000</td>\n",
       "      <td>0.000000</td>\n",
       "      <td>0.000000</td>\n",
       "      <td>4.000000</td>\n",
       "      <td>2.0000</td>\n",
       "    </tr>\n",
       "    <tr>\n",
       "      <td>75%</td>\n",
       "      <td>22.800000</td>\n",
       "      <td>8.000000</td>\n",
       "      <td>326.000000</td>\n",
       "      <td>180.000000</td>\n",
       "      <td>3.920000</td>\n",
       "      <td>3.610000</td>\n",
       "      <td>18.900000</td>\n",
       "      <td>1.000000</td>\n",
       "      <td>1.000000</td>\n",
       "      <td>4.000000</td>\n",
       "      <td>4.0000</td>\n",
       "    </tr>\n",
       "    <tr>\n",
       "      <td>max</td>\n",
       "      <td>33.900000</td>\n",
       "      <td>8.000000</td>\n",
       "      <td>472.000000</td>\n",
       "      <td>335.000000</td>\n",
       "      <td>4.930000</td>\n",
       "      <td>5.424000</td>\n",
       "      <td>22.900000</td>\n",
       "      <td>1.000000</td>\n",
       "      <td>1.000000</td>\n",
       "      <td>5.000000</td>\n",
       "      <td>8.0000</td>\n",
       "    </tr>\n",
       "  </tbody>\n",
       "</table>\n",
       "</div>"
      ],
      "text/plain": [
       "             mpg        cyl        disp          hp       drat         wt  \\\n",
       "count  32.000000  32.000000   32.000000   32.000000  32.000000  32.000000   \n",
       "mean   20.090625   6.187500  230.721875  146.687500   3.596563   3.217250   \n",
       "std     6.026948   1.785922  123.938694   68.562868   0.534679   0.978457   \n",
       "min    10.400000   4.000000   71.100000   52.000000   2.760000   1.513000   \n",
       "25%    15.425000   4.000000  120.825000   96.500000   3.080000   2.581250   \n",
       "50%    19.200000   6.000000  196.300000  123.000000   3.695000   3.325000   \n",
       "75%    22.800000   8.000000  326.000000  180.000000   3.920000   3.610000   \n",
       "max    33.900000   8.000000  472.000000  335.000000   4.930000   5.424000   \n",
       "\n",
       "            qsec         vs         am       gear     carb  \n",
       "count  32.000000  32.000000  32.000000  32.000000  32.0000  \n",
       "mean   17.848750   0.437500   0.406250   3.687500   2.8125  \n",
       "std     1.786943   0.504016   0.498991   0.737804   1.6152  \n",
       "min    14.500000   0.000000   0.000000   3.000000   1.0000  \n",
       "25%    16.892500   0.000000   0.000000   3.000000   2.0000  \n",
       "50%    17.710000   0.000000   0.000000   4.000000   2.0000  \n",
       "75%    18.900000   1.000000   1.000000   4.000000   4.0000  \n",
       "max    22.900000   1.000000   1.000000   5.000000   8.0000  "
      ]
     },
     "execution_count": 14,
     "metadata": {},
     "output_type": "execute_result"
    }
   ],
   "source": [
    "mtcars.describe()"
   ]
  },
  {
   "cell_type": "markdown",
   "metadata": {},
   "source": [
    "Look for missing / extreme values (and omit or treat them later):"
   ]
  },
  {
   "cell_type": "code",
   "execution_count": 15,
   "metadata": {},
   "outputs": [
    {
     "name": "stdout",
     "output_type": "stream",
     "text": [
      "False\n",
      "False\n"
     ]
    }
   ],
   "source": [
    "print(mtcars.isnull().any().any()) # We don't have missing values so we are done. \n",
    "print(np.isinf(mtcars).any().any()) # In case of missing data, remove the last \"any()\" to get column wise info!"
   ]
  },
  {
   "cell_type": "markdown",
   "metadata": {},
   "source": [
    "### Visual Inspection \n",
    "A crucial step in getting to grips with the data is visual inspection.\n",
    "When computers first became available for statistical work, some users began to doubt the importance of old fashioned charts in light of numerical summary statistics. The attitude was: \n",
    "\n",
    "_Numerical calculations are exact, but graphs are rough._\n",
    "\n",
    "Anscombe countered that view with a famous paper in which he showed 4 plots with the exact same regression line through 4 different data sets. Each plot produced the exact same:\n",
    " - Means\n",
    " - Sample variances\n",
    " - Correlation between x and y\n",
    " - Coefficient of determination (R^2)\n",
    "\n",
    "One should take Anscombe's advice to heart: \n",
    "\n",
    "> _Graphs are essential to good statistical analysis._\n",
    "\n",
    "> F. J. Anscombe, The American Statistician, Vol. 27, No. 1. (Feb., 1973), pp. 17-21\n",
    "http://www.sjsu.edu/faculty/gerstman/StatPrimer/anscombe1973.pdf"
   ]
  },
  {
   "cell_type": "code",
   "execution_count": 16,
   "metadata": {},
   "outputs": [
    {
     "name": "stderr",
     "output_type": "stream",
     "text": [
      "C:\\Users\\EricVogel\\Anaconda3\\envs\\advipy\\lib\\site-packages\\seaborn\\regression.py:546: UserWarning: The `size` paramter has been renamed to `height`; please update your code.\n",
      "  warnings.warn(msg, UserWarning)\n"
     ]
    },
    {
     "data": {
      "text/plain": [
       "<seaborn.axisgrid.FacetGrid at 0x1bc6f53e4a8>"
      ]
     },
     "execution_count": 16,
     "metadata": {},
     "output_type": "execute_result"
    },
    {
     "data": {
      "image/png": "[encoded data removed]",
      "text/plain": [
       "<Figure size 576x576 with 4 Axes>"
      ]
     },
     "metadata": {},
     "output_type": "display_data"
    }
   ],
   "source": [
    "sns.set(style=\"ticks\")\n",
    "\n",
    "# Load the example dataset for Anscombe's quartet\n",
    "df = sns.load_dataset(\"anscombe\")\n",
    "\n",
    "# Show the results of a linear regression within each dataset\n",
    "sns.lmplot(x=\"x\", y=\"y\", col=\"dataset\", hue=\"dataset\", data=df,\n",
    "           col_wrap=2, ci=None, palette=\"muted\", size=4,\n",
    "           scatter_kws={\"s\": 50, \"alpha\": 1})"
   ]
  },
  {
   "cell_type": "markdown",
   "metadata": {},
   "source": [
    "Let's visually inspect our data set!\n",
    "A good starting point is a series of box plots. Box plots (sometimes called box-whiskers-plots) can convey most of the information a histogram contains, but occupying much less space. This makes it possible to quickly compare the distribution of all of our variables at a glance: \n",
    "- The green line shows the variables' mean.\n",
    "- The inner box represents 50% of all values.\n",
    "- The outer \"whisker\" signify the range of the distribution.\n",
    "- If variables contain outliers, they are marked by individual points. "
   ]
  },
  {
   "cell_type": "code",
   "execution_count": 19,
   "metadata": {},
   "outputs": [
    {
     "data": {
      "text/plain": [
       "<matplotlib.axes._subplots.AxesSubplot at 0x1bc6fd2e940>"
      ]
     },
     "execution_count": 19,
     "metadata": {},
     "output_type": "execute_result"
    },
    {
     "data": {
      "image/png": "[encoded data removed]",
      "text/plain": [
       "<Figure size 1080x720 with 1 Axes>"
      ]
     },
     "metadata": {},
     "output_type": "display_data"
    }
   ],
   "source": [
    "mtcars.boxplot(figsize=(15, 10))"
   ]
  },
  {
   "cell_type": "code",
   "execution_count": 26,
   "metadata": {},
   "outputs": [
    {
     "name": "stderr",
     "output_type": "stream",
     "text": [
      "C:\\Users\\EricVogel\\Anaconda3\\envs\\advipy\\lib\\site-packages\\ipykernel_launcher.py:1: DeprecationWarning: using a non-integer array as obj in delete will result in an error in the future\n",
      "  \"\"\"Entry point for launching an IPython kernel.\n"
     ]
    },
    {
     "ename": "ValueError",
     "evalue": "invalid literal for int() with base 10: 'disp'",
     "output_type": "error",
     "traceback": [
      "\u001b[1;31m---------------------------------------------------------------------------\u001b[0m",
      "\u001b[1;31mValueError\u001b[0m                                Traceback (most recent call last)",
      "\u001b[1;32m<ipython-input-26-6ff9ea41f3d6>\u001b[0m in \u001b[0;36m<module>\u001b[1;34m\u001b[0m\n\u001b[1;32m----> 1\u001b[1;33m \u001b[0mmtcars\u001b[0m\u001b[1;33m.\u001b[0m\u001b[0mloc\u001b[0m\u001b[1;33m[\u001b[0m\u001b[1;33m:\u001b[0m\u001b[1;33m,\u001b[0m\u001b[0mnp\u001b[0m\u001b[1;33m.\u001b[0m\u001b[0mdelete\u001b[0m\u001b[1;33m(\u001b[0m\u001b[0mmtcars\u001b[0m\u001b[1;33m.\u001b[0m\u001b[0mcolumns\u001b[0m\u001b[1;33m,\u001b[0m\u001b[1;33m[\u001b[0m\u001b[1;34m\"disp\"\u001b[0m\u001b[1;33m,\u001b[0m \u001b[1;34m\"hp\"\u001b[0m\u001b[1;33m]\u001b[0m\u001b[1;33m)\u001b[0m\u001b[1;33m]\u001b[0m\u001b[1;33m.\u001b[0m\u001b[0mplot\u001b[0m\u001b[1;33m(\u001b[0m\u001b[0mkind\u001b[0m \u001b[1;33m=\u001b[0m \u001b[1;34m\"box\"\u001b[0m\u001b[1;33m,\u001b[0m\u001b[0mfigsize\u001b[0m\u001b[1;33m=\u001b[0m\u001b[1;33m(\u001b[0m\u001b[1;36m15\u001b[0m\u001b[1;33m,\u001b[0m\u001b[1;36m10\u001b[0m\u001b[1;33m)\u001b[0m\u001b[1;33m)\u001b[0m\u001b[1;33m\u001b[0m\u001b[1;33m\u001b[0m\u001b[0m\n\u001b[0m",
      "\u001b[1;32m~\\Anaconda3\\envs\\advipy\\lib\\site-packages\\numpy\\lib\\function_base.py\u001b[0m in \u001b[0;36mdelete\u001b[1;34m(arr, obj, axis)\u001b[0m\n\u001b[0;32m   4239\u001b[0m                 \u001b[1;34m\"using a non-integer array as obj in delete will result in an \"\u001b[0m\u001b[1;33m\u001b[0m\u001b[1;33m\u001b[0m\u001b[0m\n\u001b[0;32m   4240\u001b[0m                 \"error in the future\", DeprecationWarning, stacklevel=2)\n\u001b[1;32m-> 4241\u001b[1;33m             \u001b[0mobj\u001b[0m \u001b[1;33m=\u001b[0m \u001b[0mobj\u001b[0m\u001b[1;33m.\u001b[0m\u001b[0mastype\u001b[0m\u001b[1;33m(\u001b[0m\u001b[0mintp\u001b[0m\u001b[1;33m)\u001b[0m\u001b[1;33m\u001b[0m\u001b[1;33m\u001b[0m\u001b[0m\n\u001b[0m\u001b[0;32m   4242\u001b[0m         \u001b[0mkeep\u001b[0m \u001b[1;33m=\u001b[0m \u001b[0mones\u001b[0m\u001b[1;33m(\u001b[0m\u001b[0mN\u001b[0m\u001b[1;33m,\u001b[0m \u001b[0mdtype\u001b[0m\u001b[1;33m=\u001b[0m\u001b[0mbool\u001b[0m\u001b[1;33m)\u001b[0m\u001b[1;33m\u001b[0m\u001b[1;33m\u001b[0m\u001b[0m\n\u001b[0;32m   4243\u001b[0m \u001b[1;33m\u001b[0m\u001b[0m\n",
      "\u001b[1;31mValueError\u001b[0m: invalid literal for int() with base 10: 'disp'"
     ]
    }
   ],
   "source": [
    "m"
   ]
  },
  {
   "cell_type": "markdown",
   "metadata": {},
   "source": [
    "**Exercise:**: The scale seems unsuitable for some of the variables. Can you make two separate box plots to better show the scale of all variables? Would you classify any points as \"outliers\"?"
   ]
  },
  {
   "cell_type": "markdown",
   "metadata": {},
   "source": [
    "We now want to know how the individual variables vary together as pairs. For this we use `scatter_matrix`. The resulting matrix is symmetrical, since each cell shows the interaction between the column and the row variable. In our case the trace of the matrix is used to display a kernel density estimation (kde) of each single variable.  "
   ]
  },
  {
   "cell_type": "code",
   "execution_count": 27,
   "metadata": {},
   "outputs": [
    {
     "data": {
      "image/png": "[encoded data removed]",
      "text/plain": [
       "<Figure size 1080x1080 with 9 Axes>"
      ]
     },
     "metadata": {},
     "output_type": "display_data"
    }
   ],
   "source": [
    "from pandas.plotting import scatter_matrix\n",
    "scatter_matrix(mtcars[['mpg', 'cyl', 'wt']], alpha=0.2, figsize=(15, 15), diagonal='kde')\n",
    "a=0"
   ]
  },
  {
   "cell_type": "markdown",
   "metadata": {},
   "source": [
    "**Exercise:** The cells of the matrix are a bit small. Can you make a similar matrix for a subset of the variables? Which variables might be interesting to compare? Which variables may show a relationship?"
   ]
  },
  {
   "cell_type": "markdown",
   "metadata": {},
   "source": [
    "Scatter plots are often a good way to visualize multidimensional data, since we can use point thickness, point shape, color and the two axis to display dimensions of our data. Though, a plot using all of these will most likely be too crowded!  \n",
    "\n",
    "A simple example first! Let's see, if wt and mpg show any pattern:"
   ]
  },
  {
   "cell_type": "code",
   "execution_count": 28,
   "metadata": {},
   "outputs": [
    {
     "name": "stderr",
     "output_type": "stream",
     "text": [
      "'c' argument looks like a single numeric RGB or RGBA sequence, which should be avoided as value-mapping will have precedence in case its length matches with 'x' & 'y'.  Please use a 2-D array with a single row if you really want to specify the same RGB or RGBA value for all points.\n"
     ]
    },
    {
     "data": {
      "text/plain": [
       "<matplotlib.axes._subplots.AxesSubplot at 0x1bc7506ba58>"
      ]
     },
     "execution_count": 28,
     "metadata": {},
     "output_type": "execute_result"
    },
    {
     "data": {
      "image/png": "[encoded data removed]",
      "text/plain": [
       "<Figure size 864x432 with 1 Axes>"
      ]
     },
     "metadata": {},
     "output_type": "display_data"
    }
   ],
   "source": [
    "mtcars.plot.scatter(x='wt', y='mpg', figsize=(12, 6))"
   ]
  },
  {
   "cell_type": "markdown",
   "metadata": {},
   "source": [
    "We can scale the dots by hp to see were the powerful cars fall in this picture (big dot equals big engine): "
   ]
  },
  {
   "cell_type": "code",
   "execution_count": 37,
   "metadata": {},
   "outputs": [
    {
     "data": {
      "image/png": "[encoded data removed]",
      "text/plain": [
       "<Figure size 864x432 with 2 Axes>"
      ]
     },
     "metadata": {},
     "output_type": "display_data"
    }
   ],
   "source": [
    "mtcars.plot.scatter(x='wt', y='mpg', s=mtcars['hp'], c=mtcars[\"cyl\"],cmap=\"inferno\", figsize=(12, 6));"
   ]
  },
  {
   "cell_type": "markdown",
   "metadata": {},
   "source": [
    "Layered color groups are good for identifying clusters.\n",
    "\n",
    "We can check if we can separate the manual transmissions from the automatic ones by using only hp and mgp: "
   ]
  },
  {
   "cell_type": "code",
   "execution_count": 38,
   "metadata": {},
   "outputs": [
    {
     "data": {
      "image/png": "[encoded data removed]",
      "text/plain": [
       "<Figure size 864x432 with 1 Axes>"
      ]
     },
     "metadata": {},
     "output_type": "display_data"
    }
   ],
   "source": [
    "ax = mtcars[mtcars[\"am\"] == 1].plot.scatter(x='hp', y='mpg', color='DarkBlue', label='Manual', figsize=(12, 6));\n",
    "mtcars[mtcars[\"am\"] == 0].plot.scatter(x='hp', y='mpg', color='Orange', label='Automatic', ax=ax);"
   ]
  },
  {
   "cell_type": "markdown",
   "metadata": {},
   "source": [
    "A similar exercise for number of cylinders:"
   ]
  },
  {
   "cell_type": "code",
   "execution_count": 39,
   "metadata": {},
   "outputs": [
    {
     "data": {
      "image/png": "[encoded data removed]",
      "text/plain": [
       "<Figure size 864x432 with 1 Axes>"
      ]
     },
     "metadata": {},
     "output_type": "display_data"
    }
   ],
   "source": [
    "ax = mtcars[mtcars[\"cyl\"] == 4].plot.scatter(x='hp', y='mpg', color='Green', label='4', figsize=(12, 6));\n",
    "mtcars[mtcars[\"cyl\"] == 6].plot.scatter(x='hp', y='mpg', color='Orange', label='6', ax= ax);\n",
    "mtcars[mtcars[\"cyl\"] == 8].plot.scatter(x='hp', y='mpg', color='DarkRed', label='8', ax= ax);"
   ]
  },
  {
   "cell_type": "markdown",
   "metadata": {},
   "source": [
    "The seaborn package allows for even more visualization. Fitting a regression line + confidence interval trough data is often useful.\n",
    "\n",
    "We can check, if weight is a good estimator for horsepower: "
   ]
  },
  {
   "cell_type": "code",
   "execution_count": 40,
   "metadata": {
    "scrolled": true
   },
   "outputs": [
    {
     "name": "stderr",
     "output_type": "stream",
     "text": [
      "C:\\Users\\EricVogel\\Anaconda3\\envs\\advipy\\lib\\site-packages\\scipy\\stats\\stats.py:1713: FutureWarning: Using a non-tuple sequence for multidimensional indexing is deprecated; use `arr[tuple(seq)]` instead of `arr[seq]`. In the future this will be interpreted as an array index, `arr[np.array(seq)]`, which will result either in an error or a different result.\n",
      "  return np.add.reduce(sorted[indexer] * weights, axis=axis) / sumval\n"
     ]
    },
    {
     "data": {
      "text/plain": [
       "<matplotlib.axes._subplots.AxesSubplot at 0x1bc760cf5f8>"
      ]
     },
     "execution_count": 40,
     "metadata": {},
     "output_type": "execute_result"
    },
    {
     "data": {
      "image/png": "[encoded data removed]",
      "text/plain": [
       "<Figure size 432x288 with 1 Axes>"
      ]
     },
     "metadata": {},
     "output_type": "display_data"
    }
   ],
   "source": [
    "import seaborn as sns # https://seaborn.pydata.org/index.html\n",
    "sns.regplot(mtcars['wt'], mtcars['hp']) "
   ]
  },
  {
   "cell_type": "code",
   "execution_count": 41,
   "metadata": {},
   "outputs": [
    {
     "data": {
      "text/plain": [
       "<matplotlib.axes._subplots.AxesSubplot at 0x1bc761de6a0>"
      ]
     },
     "execution_count": 41,
     "metadata": {},
     "output_type": "execute_result"
    },
    {
     "data": {
      "image/png": "[encoded data removed]",
      "text/plain": [
       "<Figure size 864x432 with 1 Axes>"
      ]
     },
     "metadata": {},
     "output_type": "display_data"
    }
   ],
   "source": [
    "import matplotlib.pyplot as plt # Now I need matplotlib for adjusting size!\n",
    "\n",
    "fig, ax = plt.subplots()\n",
    "fig.set_size_inches(12, 6)\n",
    "sns.regplot(mtcars['wt'], mtcars['hp'], ax=ax)"
   ]
  },
  {
   "cell_type": "markdown",
   "metadata": {},
   "source": [
    "Bar plots are useful to finding patterns for categorical variables!\n",
    "\n",
    "Let's see, if cars with automatic VS manual transmission differ:"
   ]
  },
  {
   "cell_type": "code",
   "execution_count": 42,
   "metadata": {},
   "outputs": [
    {
     "data": {
      "text/plain": [
       "<matplotlib.axes._subplots.AxesSubplot at 0x1bc761b7a58>"
      ]
     },
     "execution_count": 42,
     "metadata": {},
     "output_type": "execute_result"
    },
    {
     "data": {
      "image/png": "[encoded data removed]",
      "text/plain": [
       "<Figure size 1152x432 with 1 Axes>"
      ]
     },
     "metadata": {},
     "output_type": "display_data"
    }
   ],
   "source": [
    "mtcars.groupby(\"am\").mean().plot.bar(figsize=(16,6))"
   ]
  },
  {
   "cell_type": "markdown",
   "metadata": {},
   "source": [
    "More recipes for data visualization can be found here:\n",
    "https://pandas.pydata.org/pandas-docs/stable/visualization.html\n",
    "\n",
    "A classic work on the topic is _The Visual Display of Quantitative Information_ by Edward Tuft:\n",
    "https://www.edwardtufte.com/tufte/books_vdqi"
   ]
  },
  {
   "cell_type": "markdown",
   "metadata": {},
   "source": [
    "## Data cleaning / preprocessing\n",
    "\n",
    "### Cleaning\n",
    "* Treating / omitting missing values & extreme values & outliers\n",
    "    * There are no hard an fast rules for outliers\n",
    "    * Visual inspection is your best bet for outliers\n",
    "    * When in doubt about what do include / exclude: Do both versions and compare the results!\n",
    "* Data Quality\n",
    "    * Correct time zones\n",
    "    * Encoding (Umlauts!)\n",
    "    * Gaps\n",
    "* Sanity checks\n",
    "    * Is age only positive?\n",
    "    * Do area codes exist?\n",
    "\n",
    "### Preprocessing\n",
    "* Enriching with other data\n",
    "    * Geo locations\n",
    "    * Weather\n",
    "    * Calendar effects\n",
    "* Encoding\n",
    "    * one hot -> one boolean column per category for categorical data\n",
    "    * dummies -> Example: 0 or 1 signifying a holiday in a time series (Avoid dummy variable trap!)\n",
    "* Scaling\n",
    "    * Percentage changes instead of nominal changes (makes different levels comparable, but loses level information) \n",
    "    * Range between one and zero (avoids large numbers)\n",
    "    * Inflation adjustment\n",
    "* Building New variables\n",
    "    * Combinations: Calculate ROI as new variable from Return and invested capital\n",
    "    * Beware of multicollinearity!"
   ]
  },
  {
   "cell_type": "markdown",
   "metadata": {},
   "source": [
    "**Note:** In theory, steps like:\n",
    "- treating missing values / outliers\n",
    "- creating new variables \n",
    "- scaling variables \n",
    "...belong in the preprocessing step! \n",
    "\n",
    "In practice, we may need to do some preprocessing to do the inspection we want! \n",
    "\n",
    "It is crucially important to **do all the data wrangling in the code - and keep this code!** If we for example manipulate data by hand in the .csv file, we lose reproducibility!"
   ]
  },
  {
   "cell_type": "code",
   "execution_count": 43,
   "metadata": {},
   "outputs": [],
   "source": [
    "# Get the original set back in case you changed something\n",
    "#mtcars = r['mtcars']  # if you loaded R in the beginning\n",
    "mtcars = pd.read_csv('data/mtcars.csv')  # otherwise\n",
    "\n",
    "mtcars[\"vs\"] = mtcars[\"vs\"] == 1\n",
    "mtcars[\"am\"] = mtcars[\"am\"] == 1\n",
    "mtcars[\"cyl\"] = mtcars[\"cyl\"].astype(np.uint8)\n",
    "mtcars[\"gear\"] = mtcars[\"gear\"].astype(np.uint8)\n",
    "mtcars[\"carb\"] = mtcars[\"carb\"].astype(np.uint8)"
   ]
  },
  {
   "cell_type": "code",
   "execution_count": 44,
   "metadata": {
    "scrolled": true
   },
   "outputs": [
    {
     "name": "stdout",
     "output_type": "stream",
     "text": [
      "<class 'pandas.core.frame.DataFrame'>\n",
      "RangeIndex: 32 entries, 0 to 31\n",
      "Data columns (total 11 columns):\n",
      "mpg     32 non-null float64\n",
      "cyl     32 non-null uint8\n",
      "disp    32 non-null float64\n",
      "hp      32 non-null int64\n",
      "drat    32 non-null float64\n",
      "wt      32 non-null float64\n",
      "qsec    32 non-null float64\n",
      "vs      32 non-null bool\n",
      "am      32 non-null bool\n",
      "gear    32 non-null uint8\n",
      "carb    32 non-null uint8\n",
      "dtypes: bool(2), float64(5), int64(1), uint8(3)\n",
      "memory usage: 1.8 KB\n"
     ]
    }
   ],
   "source": [
    "mtcars.info()"
   ]
  },
  {
   "cell_type": "markdown",
   "metadata": {},
   "source": [
    "### Modeling\n",
    "\n",
    "**Models are artifacts which transform structured data into i.i.d. noise!**\n",
    "\n",
    "i.i.d. = independent, identically distributed\n",
    "\n",
    "At this stage, you should know what you are looking for / what purpose your model should serve. \n",
    "The pure \"Data Mining\" approach of searching for any trend or structure in your data is fraught with peril. Even in random data, you will find structures by pure chance! This is still a problem if you know what you are looking for, but it can become a fatal problem if you don't!\n",
    "\n",
    "Remember:\n",
    "\n",
    "**All models wrong, some are useful!**\n",
    "\n",
    "All models are wrong because a 100% correct model is useless, much like a map of the scale 1:1 would be useless! \n",
    "\n",
    "#### Strategies in Modeling\n",
    "* Growing: Start with a minimal model and grow it stepwise by adding new features!\n",
    "* Pruning: Start with a big model (with too many features) and successively cut back the ones with least predictive power. \n",
    "* Automation / Machine Learning: Automate the process of growing and pruning.\n",
    "    * Driven my some metric (MAPE, R^2) that is optimized\n",
    "    * Can include meta parameters: Everything that is not a direct feature in the data (like type of optimizer to use)\n",
    "\n"
   ]
  },
  {
   "cell_type": "markdown",
   "metadata": {},
   "source": [
    "#### Feature selection: Fundamental approach\n",
    "\n",
    "The best way to select features is a hypothesis based on a priori information.\n",
    "For example: If I already expect (from my knowledge of engineering) that number of cylinders influences max speed, I should include it in a model were I want to predict max speed!"
   ]
  },
  {
   "cell_type": "markdown",
   "metadata": {},
   "source": [
    "#### Feature selection: Linear relationship\n",
    "\n",
    "The first guess or data can give us about features, is to look for linear relationships between our variables! This only works well for metric variables."
   ]
  },
  {
   "cell_type": "code",
   "execution_count": 45,
   "metadata": {},
   "outputs": [
    {
     "name": "stdout",
     "output_type": "stream",
     "text": [
      "<class 'pandas.core.frame.DataFrame'>\n",
      "RangeIndex: 32 entries, 0 to 31\n",
      "Data columns (total 11 columns):\n",
      "mpg     32 non-null float64\n",
      "cyl     32 non-null uint8\n",
      "disp    32 non-null float64\n",
      "hp      32 non-null int64\n",
      "drat    32 non-null float64\n",
      "wt      32 non-null float64\n",
      "qsec    32 non-null float64\n",
      "vs      32 non-null bool\n",
      "am      32 non-null bool\n",
      "gear    32 non-null uint8\n",
      "carb    32 non-null uint8\n",
      "dtypes: bool(2), float64(5), int64(1), uint8(3)\n",
      "memory usage: 1.8 KB\n"
     ]
    }
   ],
   "source": [
    "mtcars.info()"
   ]
  },
  {
   "cell_type": "code",
   "execution_count": 46,
   "metadata": {},
   "outputs": [
    {
     "data": {
      "text/html": [
       "<div>\n",
       "<style scoped>\n",
       "    .dataframe tbody tr th:only-of-type {\n",
       "        vertical-align: middle;\n",
       "    }\n",
       "\n",
       "    .dataframe tbody tr th {\n",
       "        vertical-align: top;\n",
       "    }\n",
       "\n",
       "    .dataframe thead th {\n",
       "        text-align: right;\n",
       "    }\n",
       "</style>\n",
       "<table border=\"1\" class=\"dataframe\">\n",
       "  <thead>\n",
       "    <tr style=\"text-align: right;\">\n",
       "      <th></th>\n",
       "      <th>mpg</th>\n",
       "      <th>disp</th>\n",
       "      <th>hp</th>\n",
       "      <th>drat</th>\n",
       "      <th>wt</th>\n",
       "      <th>qsec</th>\n",
       "    </tr>\n",
       "  </thead>\n",
       "  <tbody>\n",
       "    <tr>\n",
       "      <td>mpg</td>\n",
       "      <td>36.324103</td>\n",
       "      <td>-633.097208</td>\n",
       "      <td>-320.732056</td>\n",
       "      <td>2.195064</td>\n",
       "      <td>-5.116685</td>\n",
       "      <td>4.509149</td>\n",
       "    </tr>\n",
       "    <tr>\n",
       "      <td>disp</td>\n",
       "      <td>0.000000</td>\n",
       "      <td>15360.799829</td>\n",
       "      <td>6721.158669</td>\n",
       "      <td>-47.064019</td>\n",
       "      <td>107.684204</td>\n",
       "      <td>-96.051681</td>\n",
       "    </tr>\n",
       "    <tr>\n",
       "      <td>hp</td>\n",
       "      <td>0.000000</td>\n",
       "      <td>0.000000</td>\n",
       "      <td>4700.866935</td>\n",
       "      <td>-16.451109</td>\n",
       "      <td>44.192661</td>\n",
       "      <td>-86.770081</td>\n",
       "    </tr>\n",
       "    <tr>\n",
       "      <td>drat</td>\n",
       "      <td>0.000000</td>\n",
       "      <td>0.000000</td>\n",
       "      <td>0.000000</td>\n",
       "      <td>0.285881</td>\n",
       "      <td>-0.372721</td>\n",
       "      <td>0.087141</td>\n",
       "    </tr>\n",
       "    <tr>\n",
       "      <td>wt</td>\n",
       "      <td>0.000000</td>\n",
       "      <td>0.000000</td>\n",
       "      <td>0.000000</td>\n",
       "      <td>0.000000</td>\n",
       "      <td>0.957379</td>\n",
       "      <td>-0.305482</td>\n",
       "    </tr>\n",
       "    <tr>\n",
       "      <td>qsec</td>\n",
       "      <td>0.000000</td>\n",
       "      <td>0.000000</td>\n",
       "      <td>0.000000</td>\n",
       "      <td>0.000000</td>\n",
       "      <td>0.000000</td>\n",
       "      <td>3.193166</td>\n",
       "    </tr>\n",
       "  </tbody>\n",
       "</table>\n",
       "</div>"
      ],
      "text/plain": [
       "            mpg          disp           hp       drat          wt       qsec\n",
       "mpg   36.324103   -633.097208  -320.732056   2.195064   -5.116685   4.509149\n",
       "disp   0.000000  15360.799829  6721.158669 -47.064019  107.684204 -96.051681\n",
       "hp     0.000000      0.000000  4700.866935 -16.451109   44.192661 -86.770081\n",
       "drat   0.000000      0.000000     0.000000   0.285881   -0.372721   0.087141\n",
       "wt     0.000000      0.000000     0.000000   0.000000    0.957379  -0.305482\n",
       "qsec   0.000000      0.000000     0.000000   0.000000    0.000000   3.193166"
      ]
     },
     "execution_count": 46,
     "metadata": {},
     "output_type": "execute_result"
    }
   ],
   "source": [
    "float_cols = [\"mpg\", \"disp\",\"hp\",\"drat\",\"wt\",\"qsec\"]\n",
    "cov_mat = np.cov(mtcars[float_cols].values.T)\n",
    "triu_cov_mat = np.triu(cov_mat)\n",
    "pd.DataFrame(triu_cov_mat, columns=float_cols, index=float_cols)"
   ]
  },
  {
   "cell_type": "markdown",
   "metadata": {},
   "source": [
    "**Exercise:** What could be a potential problem with picking model features based on strong covariance with the target variable?"
   ]
  },
  {
   "cell_type": "code",
   "execution_count": 47,
   "metadata": {},
   "outputs": [
    {
     "data": {
      "text/html": [
       "<div>\n",
       "<style scoped>\n",
       "    .dataframe tbody tr th:only-of-type {\n",
       "        vertical-align: middle;\n",
       "    }\n",
       "\n",
       "    .dataframe tbody tr th {\n",
       "        vertical-align: top;\n",
       "    }\n",
       "\n",
       "    .dataframe thead th {\n",
       "        text-align: right;\n",
       "    }\n",
       "</style>\n",
       "<table border=\"1\" class=\"dataframe\">\n",
       "  <thead>\n",
       "    <tr style=\"text-align: right;\">\n",
       "      <th></th>\n",
       "      <th>mpg</th>\n",
       "      <th>disp</th>\n",
       "      <th>hp</th>\n",
       "      <th>drat</th>\n",
       "      <th>wt</th>\n",
       "      <th>qsec</th>\n",
       "    </tr>\n",
       "  </thead>\n",
       "  <tbody>\n",
       "    <tr>\n",
       "      <td>mpg</td>\n",
       "      <td>1.0</td>\n",
       "      <td>-0.847551</td>\n",
       "      <td>-0.776168</td>\n",
       "      <td>0.681172</td>\n",
       "      <td>-0.867659</td>\n",
       "      <td>0.418684</td>\n",
       "    </tr>\n",
       "    <tr>\n",
       "      <td>disp</td>\n",
       "      <td>0.0</td>\n",
       "      <td>1.000000</td>\n",
       "      <td>0.790949</td>\n",
       "      <td>-0.710214</td>\n",
       "      <td>0.887980</td>\n",
       "      <td>-0.433698</td>\n",
       "    </tr>\n",
       "    <tr>\n",
       "      <td>hp</td>\n",
       "      <td>0.0</td>\n",
       "      <td>0.000000</td>\n",
       "      <td>1.000000</td>\n",
       "      <td>-0.448759</td>\n",
       "      <td>0.658748</td>\n",
       "      <td>-0.708223</td>\n",
       "    </tr>\n",
       "    <tr>\n",
       "      <td>drat</td>\n",
       "      <td>0.0</td>\n",
       "      <td>0.000000</td>\n",
       "      <td>0.000000</td>\n",
       "      <td>1.000000</td>\n",
       "      <td>-0.712441</td>\n",
       "      <td>0.091205</td>\n",
       "    </tr>\n",
       "    <tr>\n",
       "      <td>wt</td>\n",
       "      <td>0.0</td>\n",
       "      <td>0.000000</td>\n",
       "      <td>0.000000</td>\n",
       "      <td>0.000000</td>\n",
       "      <td>1.000000</td>\n",
       "      <td>-0.174716</td>\n",
       "    </tr>\n",
       "    <tr>\n",
       "      <td>qsec</td>\n",
       "      <td>0.0</td>\n",
       "      <td>0.000000</td>\n",
       "      <td>0.000000</td>\n",
       "      <td>0.000000</td>\n",
       "      <td>0.000000</td>\n",
       "      <td>1.000000</td>\n",
       "    </tr>\n",
       "  </tbody>\n",
       "</table>\n",
       "</div>"
      ],
      "text/plain": [
       "      mpg      disp        hp      drat        wt      qsec\n",
       "mpg   1.0 -0.847551 -0.776168  0.681172 -0.867659  0.418684\n",
       "disp  0.0  1.000000  0.790949 -0.710214  0.887980 -0.433698\n",
       "hp    0.0  0.000000  1.000000 -0.448759  0.658748 -0.708223\n",
       "drat  0.0  0.000000  0.000000  1.000000 -0.712441  0.091205\n",
       "wt    0.0  0.000000  0.000000  0.000000  1.000000 -0.174716\n",
       "qsec  0.0  0.000000  0.000000  0.000000  0.000000  1.000000"
      ]
     },
     "execution_count": 47,
     "metadata": {},
     "output_type": "execute_result"
    }
   ],
   "source": [
    "float_cols = [\"mpg\", \"disp\",\"hp\",\"drat\",\"wt\",\"qsec\"]\n",
    "corrcoef_mat = np.corrcoef(mtcars[float_cols].values.T)\n",
    "triu_corrcoef_mat = np.triu(corrcoef_mat)\n",
    "pd.DataFrame(triu_corrcoef_mat, columns=float_cols, index=float_cols)"
   ]
  },
  {
   "cell_type": "markdown",
   "metadata": {},
   "source": [
    "It has become a truism to say \"correlation does not imply causation\".\n",
    "But while correlation may *not in every case* imply causation, it sure is a good indicator for causation!\n",
    "\n",
    "![correlation](img/xkcd_correlation.png \"correlation\")"
   ]
  },
  {
   "cell_type": "markdown",
   "metadata": {},
   "source": [
    "Lets start with building a minimal model for explaining qsec!\n",
    "We know that we need lots of power to drive a fast quarter mile, also the two seem highly correlated in the matrix above. So we make our minimal model:"
   ]
  },
  {
   "cell_type": "code",
   "execution_count": 63,
   "metadata": {},
   "outputs": [
    {
     "name": "stdout",
     "output_type": "stream",
     "text": [
      "[-18.7685313    9.41549811   0.27249848]\n"
     ]
    }
   ],
   "source": [
    "from sklearn import linear_model\n",
    "from sklearn.model_selection import train_test_split\n",
    "\n",
    "X_train, X_test, y_train, y_test = train_test_split(mtcars[[\"qsec\",\"wt\",\"disp\"]], \n",
    "                                                           mtcars[\"hp\"], test_size=0.33, random_state=42)\n",
    "                                                           \n",
    "reg = linear_model.LinearRegression(fit_intercept=True, n_jobs=1, normalize=False)\n",
    "reg.fit (X_train, y_train)\n",
    "print(reg.coef_)\n",
    "pred = reg.predict(X_test)"
   ]
  },
  {
   "cell_type": "markdown",
   "metadata": {},
   "source": [
    "We can compare our predictions to the actual values:"
   ]
  },
  {
   "cell_type": "code",
   "execution_count": 64,
   "metadata": {},
   "outputs": [
    {
     "name": "stdout",
     "output_type": "stream",
     "text": [
      "    real    pred   error\n",
      "29   175  159.73   15.27\n",
      "15   215  227.01  -12.01\n",
      "24   175  210.25  -35.25\n",
      "17    66   61.78    4.22\n",
      "8     95   23.27   71.73\n",
      "9    123  119.64    3.36\n",
      "30   335  226.66  108.34\n",
      "25    66   70.07   -4.07\n",
      "12   180  165.00   15.00\n",
      "0    110  144.39  -34.39\n",
      "4    175  196.10  -21.10\n"
     ]
    }
   ],
   "source": [
    "comparison = pd.DataFrame({\"real\":y_test.values, \n",
    "                           \"pred\":np.round(pred, 2), \n",
    "                           \"error\":np.round(y_test.values-pred, 2)}, \n",
    "                          index=y_test.index)[[\"real\", \"pred\", \"error\"]]\n",
    "print(comparison)"
   ]
  },
  {
   "cell_type": "markdown",
   "metadata": {},
   "source": [
    "Let's see how well our model performs by looking at some metrics:"
   ]
  },
  {
   "cell_type": "code",
   "execution_count": 65,
   "metadata": {},
   "outputs": [
    {
     "name": "stdout",
     "output_type": "stream",
     "text": [
      "Intercept: 385.0467\n",
      "Coefficients: \n",
      " [-18.7685313    9.41549811   0.27249848]\n",
      "Mean squared error: 1854.51\n",
      "Mean absolute error: 29.52\n",
      "Mean absolute percentage error: 19.02\n",
      "R^2: 0.66\n"
     ]
    }
   ],
   "source": [
    "from sklearn.metrics import mean_squared_error, mean_absolute_error, r2_score\n",
    "\n",
    "def mean_absolute_percentage_error(y_test, pred):\n",
    "    return np.mean(np.abs((y_test - pred) / y_test))*100\n",
    "\n",
    "# The Intercept (when fit_intercept=True )\n",
    "print('Intercept: {:.4f}'.format(reg.intercept_))\n",
    "# The coefficients\n",
    "print('Coefficients: \\n', reg.coef_)\n",
    "# The mean squared error\n",
    "print(\"Mean squared error: {:.2f}\".format(mean_squared_error(y_test, pred)))\n",
    "# The mean absolute error\n",
    "print(\"Mean absolute error: {:.2f}\".format(mean_absolute_error(y_test, pred)))\n",
    "# The mean absolute percentage error (May cause division by zero!)\n",
    "print(\"Mean absolute percentage error: {:.2f}\".format(mean_absolute_percentage_error(y_test, pred)))\n",
    "# R^2: 1 means 100% percent explained variance\n",
    "print('R^2: {:.2f}'.format(r2_score(y_test, pred)))"
   ]
  },
  {
   "cell_type": "markdown",
   "metadata": {},
   "source": [
    "**Exercise:** Can you improve the model above by growing it?"
   ]
  },
  {
   "cell_type": "code",
   "execution_count": null,
   "metadata": {},
   "outputs": [],
   "source": [
    "diamonds = pd.read_csv(\"data/diamonds.csv\")"
   ]
  },
  {
   "cell_type": "markdown",
   "metadata": {},
   "source": [
    "**Diamonds**\n",
    "\n",
    "A data frame with 53940 rows and 10 variables:\n",
    "\n",
    "http://ggplot2.tidyverse.org/reference/diamonds.html\n",
    "\n",
    "- **price** price in US dollars (\\\\$326--\\\\$18,823)\n",
    "\n",
    "- **carat** weight of the diamond (0.2--5.01)\n",
    "\n",
    "- **cut** quality of the cut (Fair, Good, Very Good, Premium, Ideal)\n",
    "\n",
    "- **color** diamond color, from J (worst) to D (best)\n",
    "\n",
    "- **clarity** a measurement of how clear the diamond is (I1 (worst), SI2, SI1, VS2, VS1, VVS2, VVS1, IF (best))\n",
    "\n",
    "- **x** length in mm (0--10.74)\n",
    "\n",
    "- **y** width in mm (0--58.9)\n",
    "\n",
    "- **z** depth in mm (0--31.8)\n",
    "\n",
    "- **depth** total depth percentage = z / mean(x, y) = 2 * z / (x + y) (43--79)\n",
    "\n",
    "- **table** width of top of diamond relative to widest point (43--95)"
   ]
  },
  {
   "cell_type": "code",
   "execution_count": null,
   "metadata": {},
   "outputs": [],
   "source": [
    "diamonds.head(5)"
   ]
  },
  {
   "cell_type": "markdown",
   "metadata": {},
   "source": [
    "#### Feature selection: One hot encoding\n",
    "Drop the last dummy, don't fall into the dummy trap! "
   ]
  },
  {
   "cell_type": "code",
   "execution_count": null,
   "metadata": {},
   "outputs": [],
   "source": [
    "diam_dummies = pd.get_dummies(diamonds[[\"cut\", \"color\", \"clarity\"]], columns =[\"cut\", \"color\", \"clarity\"], drop_first=True)\n",
    "diam_dummies.head()"
   ]
  },
  {
   "cell_type": "code",
   "execution_count": null,
   "metadata": {},
   "outputs": [],
   "source": [
    "diamonds = diamonds.copy()\n",
    "diamonds[\"cut_num\"] = diamonds[\"cut\"]\n",
    "diamonds.loc[diamonds[\"cut\"] == \"Ideal\", \"cut_num\"] = 5\n",
    "diamonds.loc[diamonds[\"cut\"] == \"Premium\", \"cut_num\"] = 4\n",
    "diamonds.loc[diamonds[\"cut\"] == \"Very Good\", \"cut_num\"] = 3\n",
    "diamonds.loc[diamonds[\"cut\"] == \"Good\", \"cut_num\"] = 2\n",
    "diamonds.loc[diamonds[\"cut\"] == \"Fair\", \"cut_num\"] = 1\n",
    "diamonds.head()"
   ]
  },
  {
   "cell_type": "markdown",
   "metadata": {},
   "source": [
    "This time we have a classification problem: We want to estimate the cut of the diamonds. We begin again with the minimal model:"
   ]
  },
  {
   "cell_type": "code",
   "execution_count": null,
   "metadata": {},
   "outputs": [],
   "source": [
    "reg = linear_model.LogisticRegression()\n",
    "X_train, X_test, y_train, y_test = train_test_split(diamonds[[\"price\"]], \n",
    "                                                    diamonds[\"cut_num\"], \n",
    "                                                    test_size=0.20, \n",
    "                                                    random_state=42)\n",
    "reg.fit(X_train, y_train) \n",
    "pred = reg.predict(X_test)"
   ]
  },
  {
   "cell_type": "markdown",
   "metadata": {},
   "source": [
    "This time we asses model performance by precision / recall:"
   ]
  },
  {
   "cell_type": "code",
   "execution_count": null,
   "metadata": {},
   "outputs": [],
   "source": [
    "from sklearn.metrics import classification_report\n",
    "report = classification_report(y_test, pred, target_names=[\"Fair\", \"Good\", \"Very Good\", \"Premium\", \"Ideal\"])\n",
    "print(report)"
   ]
  },
  {
   "cell_type": "markdown",
   "metadata": {},
   "source": [
    "Recall: How many of a class have been correctly identified?\n",
    "Precision: How many classifications have been correct \n",
    "![Recall_Precision](img/Precisionrecall.png)\n",
    "\n",
    "https://en.wikipedia.org/wiki/Precision_and_recall#/media/File:Precisionrecall.svg)"
   ]
  },
  {
   "cell_type": "code",
   "execution_count": null,
   "metadata": {},
   "outputs": [],
   "source": [
    "comparison = pd.DataFrame({\"real\":y_test.values, \n",
    "                           \"pred\":np.round(pred, 2), \n",
    "                           \"match\":y_test.values==pred}, \n",
    "                          index=y_test.index)[[\"real\", \"pred\", \"match\"]]\n",
    "print(comparison)"
   ]
  },
  {
   "cell_type": "markdown",
   "metadata": {},
   "source": [
    "**Exercise:** can you improve the classification model above?"
   ]
  },
  {
   "cell_type": "markdown",
   "metadata": {},
   "source": [
    "#### Feature selection: Non linear relationships / Interaction terms\n",
    "\n",
    "Sometimes a correlation does not tell the whole story. A variable may have a nonlinear relationship with another variable, or may be dependent on a categorical variable.\n",
    "\n",
    "A decision tree can in itself be a good model. It is not good for precisely estimating metric variables (because it partitions the data in discrete nodes) but it is excellent at capturing interaction terms (\"if the person is > 50 AND smokes the cancer risk rises drastically\") and can deal with non linear relationships."
   ]
  },
  {
   "cell_type": "code",
   "execution_count": null,
   "metadata": {},
   "outputs": [],
   "source": [
    "mtcars_data = mtcars.drop('cyl', axis=1)\n",
    "mtcars_target = mtcars.loc[:, \"cyl\"]"
   ]
  },
  {
   "cell_type": "code",
   "execution_count": null,
   "metadata": {},
   "outputs": [],
   "source": [
    "from sklearn import tree \n",
    "from sklearn.datasets import load_iris\n",
    "iris = load_iris()\n",
    "clf = tree.DecisionTreeClassifier()\n",
    "clf = clf.fit(mtcars_data, mtcars_target)"
   ]
  },
  {
   "cell_type": "code",
   "execution_count": null,
   "metadata": {},
   "outputs": [],
   "source": [
    "import graphviz\n",
    "dot_data = tree.export_graphviz(clf, out_file=None, \n",
    "                         feature_names=list(mtcars_data.columns),  \n",
    "                         class_names=[str(c) for c in clf.classes_], # Convert  class names from  model to string!\n",
    "                         filled=True, rounded=True,  \n",
    "                         special_characters=True)  \n",
    "graph = graphviz.Source(dot_data)  \n",
    "graph "
   ]
  },
  {
   "cell_type": "markdown",
   "metadata": {},
   "source": [
    "* The first line in every box show the criteria by which the split is made. It is missing in the last level of nodes, since no more split is made there.\n",
    "* The second is the gini coefficient, which is a measure for how pure the classification is in that node. It should one decrease with succeeding nodes and zero dignifies a pure node with only one class in it.\n",
    "* Samples is the number of observations in this node. If this number becomes to small, the tree will probably over fit!\n",
    "* Value shows how many observations of each class are in that node. Hence, the vector has as many entries as we have classes and it should sum up to the number of samples in that node.\n",
    "* class is our best guess for the class of all samples in that node."
   ]
  },
  {
   "cell_type": "markdown",
   "metadata": {},
   "source": [
    "##### Most important meta parameters for tree modeling:\n",
    "\n",
    "* max_depth\n",
    "* min_samples_split\n",
    "* min_samples_leaf \n",
    "* max_leaf_nodes \n",
    "\n",
    "http://scikit-learn.org/stable/modules/generated/sklearn.tree.DecisionTreeClassifier.html"
   ]
  },
  {
   "cell_type": "markdown",
   "metadata": {},
   "source": [
    "**Exercise:** Can you improve our linear regression model above by including interaction terms?"
   ]
  },
  {
   "cell_type": "markdown",
   "metadata": {},
   "source": [
    "#### Feature selection: Dimension reduction & multicollinearity \n",
    "\n",
    "Ideally, the features we use for prediction should be independent from each other. This is frequently not the case. Age, height and weight may both help to predict likelihood for some condition, but they also influence each other. This is called \"multicollinearity \".\n",
    "\n",
    "Also, we want to use as few variables as possible to make our models robust and ward against overfitting. Wouldn't it be nice, if we could get rid of multicollinearity  and have fewer variables at the same time?\n",
    "\n",
    "Fortunately we can, and we will learn how by looking at cat pictures! "
   ]
  },
  {
   "cell_type": "code",
   "execution_count": null,
   "metadata": {},
   "outputs": [],
   "source": [
    "import urllib.request\n",
    "urllib.request.urlretrieve(\"https://s7d2.scene7.com/is/image/PetSmart/PB1801_FEAT_PROD-CatTile-20170130?$CL0404$\", \"cat_small.jpg\")"
   ]
  },
  {
   "cell_type": "code",
   "execution_count": null,
   "metadata": {},
   "outputs": [],
   "source": [
    "import imageio\n",
    "cat = imageio.imread('img/cat_small.jpg')"
   ]
  },
  {
   "cell_type": "code",
   "execution_count": null,
   "metadata": {},
   "outputs": [],
   "source": [
    "from skimage import data, io, filters\n",
    "io.imshow(cat)"
   ]
  },
  {
   "cell_type": "code",
   "execution_count": null,
   "metadata": {},
   "outputs": [],
   "source": [
    "from skimage import data, io, filters\n",
    "cat_channel0 = cat[:,:,0]\n",
    "io.imshow(cat_channel0)"
   ]
  },
  {
   "cell_type": "markdown",
   "metadata": {},
   "source": [
    "We picked the first channel of the colored cat picture. The library sklearn interprets the picture as a matrix with as many observations as there are rows and as many features as there are columns. The image is currently 320x320 pixel, so it has 320 features. We will try to condense the image to fever features using principle component analysis (PCA)!"
   ]
  },
  {
   "cell_type": "code",
   "execution_count": null,
   "metadata": {},
   "outputs": [],
   "source": [
    "from sklearn.decomposition import PCA\n",
    "\n",
    "pca = PCA(n_components=5) # change this number for better cat picture!\n",
    "pca.fit(cat_channel0)\n",
    "cat_transform = pca.transform(cat_channel0)\n",
    "cat_inverse_transform = pca.inverse_transform(cat_transform)\n",
    "io.imshow(cat_inverse_transform)"
   ]
  },
  {
   "cell_type": "markdown",
   "metadata": {},
   "source": [
    "PCA and singular value decomposition are closely related. \n",
    "\n",
    "To simplify: Using a PCA, we transform a matrix of linearly dependent columns into a new matrix of linearly independent columns. A nice effect is: The columns of the resulting matrix contain all the information of the original matrix in descending order. That is, column 1 stores most of the information of the original, column 2 stores a little less and so on. That means we can use fewer columns of our new matrix and still capture most of the information in the original matrix. With each column (feature) we add, we capture more of the original, but we have diminishing returns with each new column.\n",
    "\n",
    "From a practical standpoint, we extract all the information from those features that suffer from multicollinearity and stuff as much of it as possible into a smaller set of independent variables. \n",
    "\n",
    "You can find a more rigorous explanation and a full tutorial here: https://www.cs.princeton.edu/picasso/mats/PCA-Tutorial-Intuition_jp.pdf\n",
    "\n",
    "\n",
    "**TL;DR**: PCA transforms many dependent features into fever independent features!\n",
    "\n",
    "In the example above, we can already get a recognizable cat by using way less than the original 320 features!\n",
    "A significant drawback of methods like this is, that the resulting features can no longer be interpreted!"
   ]
  },
  {
   "cell_type": "markdown",
   "metadata": {},
   "source": [
    "**Exercise:** How many features from the PCA do you need, to make a good enough cat picture?"
   ]
  },
  {
   "cell_type": "markdown",
   "metadata": {},
   "source": [
    "**Exercise:** Can you improve our regression model by using PCA components?"
   ]
  },
  {
   "cell_type": "markdown",
   "metadata": {},
   "source": [
    "## Applications / Real World Problems\n"
   ]
  },
  {
   "cell_type": "markdown",
   "metadata": {},
   "source": [
    "### Analyzing US Storm Data\n",
    "\n",
    "Data about storms and other weather events can be found here:\n",
    "https://www.ncdc.noaa.gov/stormevents/ftp.jsp"
   ]
  },
  {
   "cell_type": "code",
   "execution_count": null,
   "metadata": {},
   "outputs": [],
   "source": [
    "path = os.path.join('data','Storm')\n",
    "all_files = glob.glob(os.path.join(path, \"StormEvents_details*.csv\"))\n",
    "print(all_files)"
   ]
  },
  {
   "cell_type": "code",
   "execution_count": null,
   "metadata": {},
   "outputs": [],
   "source": [
    "storms_raw = pd.concat((pd.read_csv(f) for f in all_files))"
   ]
  },
  {
   "cell_type": "code",
   "execution_count": null,
   "metadata": {},
   "outputs": [],
   "source": [
    "storms_raw.head(5)"
   ]
  },
  {
   "cell_type": "code",
   "execution_count": null,
   "metadata": {},
   "outputs": [],
   "source": [
    "storms_raw.describe()"
   ]
  },
  {
   "cell_type": "code",
   "execution_count": null,
   "metadata": {},
   "outputs": [],
   "source": [
    "storms_raw.info()"
   ]
  },
  {
   "cell_type": "code",
   "execution_count": null,
   "metadata": {},
   "outputs": [],
   "source": [
    "storms_raw.columns"
   ]
  },
  {
   "cell_type": "code",
   "execution_count": null,
   "metadata": {},
   "outputs": [],
   "source": [
    "storms = storms_raw[['BEGIN_YEARMONTH', \n",
    "             'BEGIN_DAY', \n",
    "             'EVENT_TYPE', \n",
    "             'INJURIES_DIRECT',\n",
    "             'INJURIES_INDIRECT',\n",
    "             'DEATHS_DIRECT',\n",
    "             'DEATHS_INDIRECT',\n",
    "             'MAGNITUDE',\n",
    "             'MAGNITUDE_TYPE',\n",
    "             'MONTH_NAME',\n",
    "             'STATE']]"
   ]
  },
  {
   "cell_type": "code",
   "execution_count": null,
   "metadata": {},
   "outputs": [],
   "source": [
    "storms.head(3)"
   ]
  },
  {
   "cell_type": "code",
   "execution_count": null,
   "metadata": {},
   "outputs": [],
   "source": [
    "storms.info()"
   ]
  },
  {
   "cell_type": "code",
   "execution_count": null,
   "metadata": {},
   "outputs": [],
   "source": [
    "storms.loc[:, \"DATE\"] = storms.loc[:, [\"BEGIN_YEARMONTH\", \"BEGIN_DAY\"]].apply(\n",
    "                                                lambda x : pd.datetime(\n",
    "                                                     year=int(str(x[\"BEGIN_YEARMONTH\"])[0:4]),\n",
    "                                                     month=int(str(x[\"BEGIN_YEARMONTH\"])[4:6]),\n",
    "                                                     day=x[\"BEGIN_DAY\"]),\n",
    "                                                     axis=1)"
   ]
  },
  {
   "cell_type": "code",
   "execution_count": null,
   "metadata": {},
   "outputs": [],
   "source": [
    "storms.loc[:, \"YEAR\"]= storms['DATE'].dt.year\n",
    "storms.loc[:, \"INJURIES\"] = storms['INJURIES_DIRECT'] + storms['INJURIES_INDIRECT']\n",
    "storms.loc[:, \"DEATHS\"] = storms['DEATHS_DIRECT'] + storms['DEATHS_INDIRECT']"
   ]
  },
  {
   "cell_type": "markdown",
   "metadata": {},
   "source": [
    "**Exercise**: Which US states had the least adverse weather events for each year looking at the last 10 years?"
   ]
  },
  {
   "cell_type": "code",
   "execution_count": null,
   "metadata": {},
   "outputs": [],
   "source": [
    "# %load solution.min_by_year_a"
   ]
  },
  {
   "cell_type": "code",
   "execution_count": null,
   "metadata": {},
   "outputs": [],
   "source": [
    "# %load solution.min_by_year_b"
   ]
  },
  {
   "cell_type": "markdown",
   "metadata": {},
   "source": [
    "**Exercise:** Did _HAWAII WATERS_ really have the fewest weather events for most of the last 10 years?  "
   ]
  },
  {
   "cell_type": "code",
   "execution_count": null,
   "metadata": {},
   "outputs": [],
   "source": [
    "# %load solution.hawaii_a"
   ]
  },
  {
   "cell_type": "code",
   "execution_count": null,
   "metadata": {},
   "outputs": [],
   "source": [
    "# %load solution.hawaii_b"
   ]
  },
  {
   "cell_type": "code",
   "execution_count": null,
   "metadata": {},
   "outputs": [],
   "source": [
    "# %load solution.hawaii_c"
   ]
  },
  {
   "cell_type": "markdown",
   "metadata": {},
   "source": [
    "#### Common pitfalls: Not counting from zero!\n",
    "\n",
    "The example with the storm data above illustrates a tricky problem: If we aggregate data from individual observations to counts of data, we will not get an aggregation for the \"zero\" category! "
   ]
  },
  {
   "cell_type": "markdown",
   "metadata": {},
   "source": [
    "### Analyzing Gender Discrimination in Berkeley University (1973)"
   ]
  },
  {
   "cell_type": "code",
   "execution_count": null,
   "metadata": {},
   "outputs": [],
   "source": [
    "students = pd.read_csv(\"data/student_data_1973.csv\")\n",
    "students.head()"
   ]
  },
  {
   "cell_type": "markdown",
   "metadata": {},
   "source": [
    "**Exercise:** Students claimed, that the university in question discriminated against women when accepting new students. On the basis of the data, do you support or reject that claim?"
   ]
  },
  {
   "cell_type": "code",
   "execution_count": null,
   "metadata": {},
   "outputs": [],
   "source": [
    "# %load solution.students_a"
   ]
  },
  {
   "cell_type": "code",
   "execution_count": null,
   "metadata": {},
   "outputs": [],
   "source": [
    "# %load solution.students_b"
   ]
  },
  {
   "cell_type": "code",
   "execution_count": null,
   "metadata": {},
   "outputs": [],
   "source": [
    "# %load solution.students_c"
   ]
  },
  {
   "cell_type": "code",
   "execution_count": null,
   "metadata": {},
   "outputs": [],
   "source": [
    "# %load solution.students_d"
   ]
  },
  {
   "cell_type": "code",
   "execution_count": null,
   "metadata": {},
   "outputs": [],
   "source": [
    "# %load solution.students_e"
   ]
  },
  {
   "cell_type": "markdown",
   "metadata": {},
   "source": [
    "#### Common pitfalls: Simpson's Paradox\n",
    "\n",
    "The example above is a famous case, where a general trend over all categories breaks down for each individual category. It is a sub-case of a confounding variable (see the section on that topic below). In this case the confounding variable is the different interest for different subjects in male and female students.\n",
    "\n",
    "Sources:\n",
    "* http://homepage.stat.uiowa.edu/~mbognar/1030/Bickel-Berkeley.pdf\n",
    "* https://en.wikipedia.org/wiki/Simpson%27s_paradox"
   ]
  },
  {
   "cell_type": "markdown",
   "metadata": {},
   "source": [
    "We can find the same effect in our mtcars data!\n",
    "Overall, we have a positive correlation between a cars weight and its horsepower. But surely, making a car heavier does not make it faster?"
   ]
  },
  {
   "cell_type": "code",
   "execution_count": null,
   "metadata": {},
   "outputs": [],
   "source": [
    "sns.regplot(mtcars['hp'], mtcars['wt']) "
   ]
  },
  {
   "cell_type": "markdown",
   "metadata": {},
   "source": [
    "And, when we control for number of cylinders (which is a proxy for engine size), we see that the correlation vanishes!"
   ]
  },
  {
   "cell_type": "code",
   "execution_count": null,
   "metadata": {
    "scrolled": false
   },
   "outputs": [],
   "source": [
    "use_seaborn = True\n",
    "if use_seaborn:\n",
    "    fig, ax = plt.subplots()\n",
    "    fig.set_size_inches(12, 6)\n",
    "    \n",
    "labels = [4, 6, 8]\n",
    "for label in labels:\n",
    "    d = mtcars[mtcars[\"cyl\"]==label]\n",
    "    if use_seaborn:\n",
    "        sns_plot = sns.regplot(d['hp'], d['wt'], ax=ax)\n",
    "        sns_plot.set(xlim=(0, 350),\n",
    "                     ylim=(0, 7)) \n",
    "    else:\n",
    "        d.plot.scatter(x='wt', y=\"disp\", figsize=(12,6))    "
   ]
  },
  {
   "cell_type": "markdown",
   "metadata": {},
   "source": [
    "### Analyzing Stock performance"
   ]
  },
  {
   "cell_type": "code",
   "execution_count": null,
   "metadata": {},
   "outputs": [],
   "source": [
    "prices = pd.read_csv(\"data/stock_prices.csv\")\n",
    "prices = prices.rename(columns={'Unnamed: 0': 'date'})"
   ]
  },
  {
   "cell_type": "markdown",
   "metadata": {},
   "source": [
    "**Exercise:** The `prices` data contains daily close prices from 5 different stocks over a period of 2 years.\n",
    "Do you think the performance of the stocks is independent? "
   ]
  },
  {
   "cell_type": "code",
   "execution_count": null,
   "metadata": {},
   "outputs": [],
   "source": [
    "# %load solution.prices_a"
   ]
  },
  {
   "cell_type": "code",
   "execution_count": null,
   "metadata": {},
   "outputs": [],
   "source": [
    "# %load solution.prices_b"
   ]
  },
  {
   "cell_type": "code",
   "execution_count": null,
   "metadata": {},
   "outputs": [],
   "source": [
    "# %load solution.prices_c"
   ]
  },
  {
   "cell_type": "code",
   "execution_count": null,
   "metadata": {},
   "outputs": [],
   "source": [
    "# %load solution.prices_d"
   ]
  },
  {
   "cell_type": "code",
   "execution_count": null,
   "metadata": {},
   "outputs": [],
   "source": [
    "# %load solution.prices_e"
   ]
  },
  {
   "cell_type": "markdown",
   "metadata": {},
   "source": [
    "#### Common pitfalls: Common trend\n",
    "\n",
    "In the example above, we see how easy a common trend can arise: It is enough, for two processes to grow (even at different rates or in different directions) to produce a correlation! This phenomenon is frequently found in financial time series! Taking first differences can be helpful in comparing de-trended time series! "
   ]
  },
  {
   "cell_type": "markdown",
   "metadata": {},
   "source": [
    "#### Common pitfalls: Spurious correlations\n",
    "\n",
    "If we just look long enough, we find correlations purely by chance. This is a problem that only increases with the advent of \"Big Data\", since we have more and more unrelated data that we can compare!\n",
    "\n",
    "http://www.tylervigen.com/spurious-correlations"
   ]
  },
  {
   "cell_type": "markdown",
   "metadata": {},
   "source": [
    "#### Common pitfalls: Confounding variables\n",
    "A confounding variable is the general case for which a common trend or Simpson's Paradox is one example: A hidden variable that influences both the variable we want to explain and the variable we use for explanation. It creates the false impression that there is a direct relationship between the two!\n",
    "\n",
    "![confounding variable\"](img/xkcd_heatmap.png \"confounding variable\")"
   ]
  },
  {
   "cell_type": "markdown",
   "metadata": {},
   "source": [
    "#### Common pitfalls: p-hacking\n",
    "\n",
    "When we talk about a _statistical relationship_ , the word _statistical_ means, that we can never be 100% sure it exists. The best we can do, is quantify our certainty in the results. For this, we often use the p-value. The p-value represents how likely it is, that our results came together purely by chance. The smaller the p-value for which our results are significant, the smaller the chance that our results are produced only by chance.\n",
    "\n",
    "However, if we re-run the same experiment on random data long enough, sooner or later we will find a relationship.\n",
    "\n",
    "The same principle applies, if we test a successive row of hypothesis on the same data. Every time we form a new hypothesis, we have a certain chance, that it is backed by the data purely by chance. So if we repeat the process often enough , we get seemingly significant results.\n",
    "\n",
    "This tactic is called \"p-hacking\" (because we are hacking the p-value), is in wide use in academia and is at the core of the current reproducibility  crisis in science. \n",
    "\n",
    "As usual, xkcd explains the concept well:\n",
    "![p-hacking](img/xkcd_jelly_beans.png \"p-hacking\")"
   ]
  },
  {
   "cell_type": "markdown",
   "metadata": {},
   "source": [
    "# Putting it all together in a pipeline\n",
    "* A pipeline combines a number of transformations with one model at the end. \n",
    "* It hands the data through all the transformations to the final model.\n",
    "* The pipeline can be handeld as if it was a model by using \"fit\" and \"predict\".\n",
    "* Estimating quality from price is easy, estimating price from other qualities seems hard.\n",
    "* You can try estimating other features, using other models or tuning other hyper-parameters."
   ]
  },
  {
   "cell_type": "code",
   "execution_count": null,
   "metadata": {},
   "outputs": [],
   "source": [
    "diamonds_dummy = pd.concat([diamonds, diam_dummies], axis=1)\n",
    "diamonds_dummy = diamonds_dummy.drop([\"depth\", \"cut\", \"cut_num\", \"color\", \"clarity\"], axis=1)\n",
    "diamonds_dummy.head()"
   ]
  },
  {
   "cell_type": "markdown",
   "metadata": {},
   "source": [
    "**Other, more advanced regression models:**\n",
    "\n",
    "- Ridge: Includes Regularization (Penalty for big predictors, helps against over fitting)\n",
    "- RidgeCV: Like ridge, but implements efficient cross validation search"
   ]
  },
  {
   "cell_type": "code",
   "execution_count": null,
   "metadata": {},
   "outputs": [],
   "source": [
    "# Expanded on code from Gaël Varoquaux: http://scikit-learn.org/stable/auto_examples/plot_digits_pipe.html#sphx-glr-auto-examples-plot-digits-pipe-py\n",
    "\n",
    "import matplotlib.pyplot as plt\n",
    "from sklearn.decomposition import PCA\n",
    "from sklearn import linear_model, decomposition, datasets\n",
    "from sklearn.pipeline import Pipeline\n",
    "from sklearn.model_selection import GridSearchCV\n",
    "\n",
    "regr = linear_model.Lasso()\n",
    "\n",
    "pca = PCA()\n",
    "pipe = Pipeline(steps=[('pca', pca), ('regr', regr)])\n",
    "\n",
    "X_train, X_test, y_train, y_test = train_test_split(diamonds_dummy, \n",
    "                                                    diamonds[\"depth\"], \n",
    "                                                    test_size=0.25, \n",
    "                                                    random_state=42)\n",
    "\n",
    "# Plot the PCA spectrum\n",
    "pca.fit(X_train)\n",
    "\n",
    "plt.figure(1, figsize=(12, 6))\n",
    "plt.clf()\n",
    "plt.axes([.2, .2, .7, .7])\n",
    "plt.plot(pca.explained_variance_, linewidth=2)\n",
    "plt.axis('tight')\n",
    "plt.xlabel('n_components')\n",
    "plt.ylabel('explained_variance_')\n",
    "\n",
    "# Prediction\n",
    "n_components = [1,5,10,15,20] # Used PCA components\n",
    "alphas = np.logspace(0, 4, 5) # Regularization parameter\n",
    "\n",
    "# Parameters of pipelines can be set using ‘__’ separated parameter names:\n",
    "estimator = GridSearchCV(pipe,\n",
    "                         dict(pca__n_components=n_components,\n",
    "                              regr__alpha=alphas))\n",
    "estimator.fit(X_train, y_train)\n",
    "\n",
    "plt.axvline(estimator.best_estimator_.named_steps['pca'].n_components,\n",
    "            linestyle=':', label='n_components chosen')\n",
    "plt.legend(prop=dict(size=12))\n",
    "plt.show()\n",
    "pred = estimator.predict(X_test)"
   ]
  },
  {
   "cell_type": "code",
   "execution_count": null,
   "metadata": {},
   "outputs": [],
   "source": [
    "comparison = pd.DataFrame({\"real\":y_test.values, \n",
    "                           \"pred\":np.round(pred, 2), \n",
    "                           \"error\":np.round(y_test.values-pred, 2)}, \n",
    "                          index=y_test.index)[[\"real\", \"pred\", \"error\"]]\n",
    "print(comparison.head())\n",
    "\n",
    "def mean_absolute_percentage_error(y_test, pred):\n",
    "    return np.mean(np.abs((y_test - pred) / y_test))*100\n",
    "\n",
    "# The mean squared error\n",
    "print(\"Mean squared error: {:.2f}\".format(mean_squared_error(y_test, pred)))\n",
    "# The mean absolute error\n",
    "print(\"Mean absolute error: {:.2f}\".format(mean_absolute_error(y_test, pred)))\n",
    "# The mean absolute percentage error (May cause division by zero!)\n",
    "print(\"Mean absolute percentage error: {:.2f}\".format(mean_absolute_percentage_error(y_test, pred)))\n",
    "# R^2: 1 means 100% percent explained variance\n",
    "print('R^2: {:.2f}'.format(r2_score(y_test, pred)))"
   ]
  }
 ],
 "metadata": {
  "kernelspec": {
   "display_name": "Python 3",
   "language": "python",
   "name": "python3"
  },
  "language_info": {
   "codemirror_mode": {
    "name": "ipython",
    "version": 3
   },
   "file_extension": ".py",
   "mimetype": "text/x-python",
   "name": "python",
   "nbconvert_exporter": "python",
   "pygments_lexer": "ipython3",
   "version": "3.6.7"
  }
 },
 "nbformat": 4,
 "nbformat_minor": 2
}
